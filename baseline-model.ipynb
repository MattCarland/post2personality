{
 "cells": [
  {
   "cell_type": "markdown",
   "id": "82a61d4d",
   "metadata": {},
   "source": [
    "# Building a Baseline Model for MBTI Predictions\n",
    "\n",
    "## Data Preparation \n",
    "\n",
    "### 1) What is our dataset?\n",
    "\n",
    "Our dataset that we will be utilizing for this baseline model is the 'Types 500' MBTI dataset,'(MBTI) Myers-Briggs Personality Type Dataset', and the 'MBTI Personality Type Twitter Dataset' from Kaggle."
   ]
  },
  {
   "cell_type": "code",
   "execution_count": null,
   "id": "eb1d8f44",
   "metadata": {},
   "outputs": [],
   "source": []
  },
  {
   "cell_type": "markdown",
   "id": "3b9acfb5",
   "metadata": {},
   "source": [
    "###  GAN"
   ]
  }
 ],
 "metadata": {
  "kernelspec": {
   "display_name": "Python 3 (ipykernel)",
   "language": "python",
   "name": "python3"
  },
  "language_info": {
   "codemirror_mode": {
    "name": "ipython",
    "version": 3
   },
   "file_extension": ".py",
   "mimetype": "text/x-python",
   "name": "python",
   "nbconvert_exporter": "python",
   "pygments_lexer": "ipython3",
   "version": "3.10.6"
  },
  "toc": {
   "base_numbering": 1,
   "nav_menu": {},
   "number_sections": true,
   "sideBar": true,
   "skip_h1_title": false,
   "title_cell": "Table of Contents",
   "title_sidebar": "Contents",
   "toc_cell": false,
   "toc_position": {},
   "toc_section_display": true,
   "toc_window_display": false
  }
 },
 "nbformat": 4,
 "nbformat_minor": 5
}
