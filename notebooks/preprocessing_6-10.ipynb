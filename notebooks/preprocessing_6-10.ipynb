{
 "cells": [
  {
   "cell_type": "code",
   "execution_count": 1,
   "metadata": {},
   "outputs": [],
   "source": [
    "# import numpy as np\n",
    "import pandas as pd\n",
    "\n",
    "from sklearn.feature_extraction.text import TfidfVectorizer\n",
    "from sklearn.feature_extraction.text import CountVectorizer # <-- I went with a TF-IDF approach for now, but we could switch to this\n",
    "                                                            #      later on if we want to try a simpler \"bag-of-words\" approach.\n",
    "\n",
    "import nltk\n",
    "from textblob import TextBlob"
   ]
  },
  {
   "attachments": {},
   "cell_type": "markdown",
   "metadata": {},
   "source": [
    "---------------------\n",
    "## **Parameters:**"
   ]
  },
  {
   "cell_type": "code",
   "execution_count": 2,
   "metadata": {},
   "outputs": [],
   "source": [
    "MIN_DOC_FREQ = 0.02\n",
    "MAX_DOC_FREQ = 0.8\n",
    "\n",
    "#_______________________________________\n",
    "# For testing & diagnostics ONLY:\n",
    "DATA_LIMIT = 3"
   ]
  },
  {
   "attachments": {},
   "cell_type": "markdown",
   "metadata": {},
   "source": [
    "---------------------\n",
    "### Data intake:"
   ]
  },
  {
   "cell_type": "code",
   "execution_count": 3,
   "metadata": {},
   "outputs": [],
   "source": [
    "data = pd.read_csv('raw_data/Types_500/Types_500.csv')\n",
    "# data = pd.read_csv('raw_data/Twitter_MBTI/twitter_MBTI.csv')"
   ]
  },
  {
   "cell_type": "code",
   "execution_count": 4,
   "metadata": {},
   "outputs": [
    {
     "name": "stdout",
     "output_type": "stream",
     "text": [
      "\n",
      "Dataset contains 106067 rows\n",
      "\n"
     ]
    },
    {
     "data": {
      "text/html": [
       "<div>\n",
       "<style scoped>\n",
       "    .dataframe tbody tr th:only-of-type {\n",
       "        vertical-align: middle;\n",
       "    }\n",
       "\n",
       "    .dataframe tbody tr th {\n",
       "        vertical-align: top;\n",
       "    }\n",
       "\n",
       "    .dataframe thead th {\n",
       "        text-align: right;\n",
       "    }\n",
       "</style>\n",
       "<table border=\"1\" class=\"dataframe\">\n",
       "  <thead>\n",
       "    <tr style=\"text-align: right;\">\n",
       "      <th></th>\n",
       "      <th>target</th>\n",
       "      <th>text</th>\n",
       "    </tr>\n",
       "  </thead>\n",
       "  <tbody>\n",
       "    <tr>\n",
       "      <th>0</th>\n",
       "      <td>INTJ</td>\n",
       "      <td>know intj tool use interaction people excuse a...</td>\n",
       "    </tr>\n",
       "    <tr>\n",
       "      <th>1</th>\n",
       "      <td>INTJ</td>\n",
       "      <td>rap music ehh opp yeah know valid well know fa...</td>\n",
       "    </tr>\n",
       "    <tr>\n",
       "      <th>2</th>\n",
       "      <td>INTJ</td>\n",
       "      <td>preferably p hd low except wew lad video p min...</td>\n",
       "    </tr>\n",
       "    <tr>\n",
       "      <th>3</th>\n",
       "      <td>INTJ</td>\n",
       "      <td>drink like wish could drink red wine give head...</td>\n",
       "    </tr>\n",
       "    <tr>\n",
       "      <th>4</th>\n",
       "      <td>INTJ</td>\n",
       "      <td>space program ah bad deal meing freelance max ...</td>\n",
       "    </tr>\n",
       "  </tbody>\n",
       "</table>\n",
       "</div>"
      ],
      "text/plain": [
       "  target                                               text\n",
       "0   INTJ  know intj tool use interaction people excuse a...\n",
       "1   INTJ  rap music ehh opp yeah know valid well know fa...\n",
       "2   INTJ  preferably p hd low except wew lad video p min...\n",
       "3   INTJ  drink like wish could drink red wine give head...\n",
       "4   INTJ  space program ah bad deal meing freelance max ..."
      ]
     },
     "execution_count": 4,
     "metadata": {},
     "output_type": "execute_result"
    }
   ],
   "source": [
    "data = data[['type', 'posts']]\n",
    "data.rename(columns={'type': 'target', 'posts': 'text'}, inplace=True)\n",
    "\n",
    "print(f'\\nDataset contains {data.shape[0]} rows\\n')\n",
    "data.sample(10)"
   ]
  },
  {
   "cell_type": "code",
   "execution_count": 5,
   "metadata": {},
   "outputs": [
    {
     "data": {
      "text/html": [
       "<div>\n",
       "<style scoped>\n",
       "    .dataframe tbody tr th:only-of-type {\n",
       "        vertical-align: middle;\n",
       "    }\n",
       "\n",
       "    .dataframe tbody tr th {\n",
       "        vertical-align: top;\n",
       "    }\n",
       "\n",
       "    .dataframe thead th {\n",
       "        text-align: right;\n",
       "    }\n",
       "</style>\n",
       "<table border=\"1\" class=\"dataframe\">\n",
       "  <thead>\n",
       "    <tr style=\"text-align: right;\">\n",
       "      <th></th>\n",
       "      <th>target</th>\n",
       "      <th>text</th>\n",
       "    </tr>\n",
       "  </thead>\n",
       "  <tbody>\n",
       "    <tr>\n",
       "      <th>0</th>\n",
       "      <td>INTJ</td>\n",
       "      <td>know intj tool use interaction people excuse a...</td>\n",
       "    </tr>\n",
       "    <tr>\n",
       "      <th>1</th>\n",
       "      <td>INTJ</td>\n",
       "      <td>rap music ehh opp yeah know valid well know fa...</td>\n",
       "    </tr>\n",
       "    <tr>\n",
       "      <th>2</th>\n",
       "      <td>INTJ</td>\n",
       "      <td>preferably p hd low except wew lad video p min...</td>\n",
       "    </tr>\n",
       "  </tbody>\n",
       "</table>\n",
       "</div>"
      ],
      "text/plain": [
       "  target                                               text\n",
       "0   INTJ  know intj tool use interaction people excuse a...\n",
       "1   INTJ  rap music ehh opp yeah know valid well know fa...\n",
       "2   INTJ  preferably p hd low except wew lad video p min..."
      ]
     },
     "execution_count": 5,
     "metadata": {},
     "output_type": "execute_result"
    }
   ],
   "source": [
    "### OPTIONAL: DATA LIMITING\n",
    "if DATA_LIMIT > 0:\n",
    "    data = data.iloc[:3]"
   ]
  },
  {
   "cell_type": "code",
   "execution_count": 6,
   "metadata": {},
   "outputs": [
    {
     "data": {
      "text/html": [
       "<div>\n",
       "<style scoped>\n",
       "    .dataframe tbody tr th:only-of-type {\n",
       "        vertical-align: middle;\n",
       "    }\n",
       "\n",
       "    .dataframe tbody tr th {\n",
       "        vertical-align: top;\n",
       "    }\n",
       "\n",
       "    .dataframe thead th {\n",
       "        text-align: right;\n",
       "    }\n",
       "</style>\n",
       "<table border=\"1\" class=\"dataframe\">\n",
       "  <thead>\n",
       "    <tr style=\"text-align: right;\">\n",
       "      <th></th>\n",
       "      <th>target</th>\n",
       "      <th>text</th>\n",
       "    </tr>\n",
       "  </thead>\n",
       "  <tbody>\n",
       "    <tr>\n",
       "      <th>0</th>\n",
       "      <td>INTJ</td>\n",
       "      <td>know intj tool use interaction people excuse a...</td>\n",
       "    </tr>\n",
       "    <tr>\n",
       "      <th>1</th>\n",
       "      <td>INTJ</td>\n",
       "      <td>rap music ehh opp yeah know valid well know fa...</td>\n",
       "    </tr>\n",
       "    <tr>\n",
       "      <th>2</th>\n",
       "      <td>INTJ</td>\n",
       "      <td>preferably p hd low except wew lad video p min...</td>\n",
       "    </tr>\n",
       "  </tbody>\n",
       "</table>\n",
       "</div>"
      ],
      "text/plain": [
       "  target                                               text\n",
       "0   INTJ  know intj tool use interaction people excuse a...\n",
       "1   INTJ  rap music ehh opp yeah know valid well know fa...\n",
       "2   INTJ  preferably p hd low except wew lad video p min..."
      ]
     },
     "execution_count": 6,
     "metadata": {},
     "output_type": "execute_result"
    }
   ],
   "source": [
    "data"
   ]
  },
  {
   "attachments": {},
   "cell_type": "markdown",
   "metadata": {},
   "source": [
    "---------------\n",
    "### Spelling correction:\n",
    "\n",
    "**Use this version if done BEFORE tokenizing (which will mess up the MBTI type removal...)**"
   ]
  },
  {
   "cell_type": "code",
   "execution_count": 7,
   "metadata": {},
   "outputs": [],
   "source": [
    "def correct_spelling(dataframe):\n",
    "    for i in range(dataframe.shape[0]):\n",
    "        dataframe.text[i] = str(TextBlob(dataframe.iloc[i].text).correct())\n",
    "    return dataframe"
   ]
  },
  {
   "cell_type": "code",
   "execution_count": 8,
   "metadata": {},
   "outputs": [],
   "source": [
    "# [[[For later]]] COUNT number of corrections:\n"
   ]
  },
  {
   "attachments": {},
   "cell_type": "markdown",
   "metadata": {},
   "source": [
    "------------\n",
    "### Tokenizing:"
   ]
  },
  {
   "cell_type": "code",
   "execution_count": 9,
   "metadata": {},
   "outputs": [],
   "source": [
    "# tokenizing:\n",
    "# data['text'] = data['text'].apply(lambda row: nltk.word_tokenize(row))"
   ]
  },
  {
   "cell_type": "code",
   "execution_count": 10,
   "metadata": {},
   "outputs": [],
   "source": [
    "def tokenize(dataframe):\n",
    "    dataframe['text'] = dataframe['text'].apply(lambda row: nltk.word_tokenize(row))\n",
    "    return dataframe"
   ]
  },
  {
   "attachments": {},
   "cell_type": "markdown",
   "metadata": {},
   "source": [
    "-----------------\n",
    "### Removing key personality terms:\n",
    "\n",
    "(Step needs to be after TOKENIZING)"
   ]
  },
  {
   "cell_type": "code",
   "execution_count": 11,
   "metadata": {},
   "outputs": [],
   "source": [
    "def remove_MBTI_types(dataframe):\n",
    "    # Set list of terms (strings) to remove:\n",
    "    masking = ['intj', 'intp', 'infj', 'infp',\n",
    "               'istj', 'istp', 'isfj', 'isfp',\n",
    "               'entj', 'entp', 'enfj', 'enfp',\n",
    "               'estj', 'estp', 'esfj', 'esfp']\n",
    "    # Update dataframe column with masked text:\n",
    "    dataframe['text'] = dataframe['text'].apply(lambda x: [word for word in x if word not in masking])\n",
    "    return dataframe"
   ]
  },
  {
   "attachments": {},
   "cell_type": "markdown",
   "metadata": {},
   "source": [
    "---------------\n",
    "### Spelling correction:\n",
    "\n",
    "**Use this version if done AFTER tokenizing (which I think should be fine...)**"
   ]
  },
  {
   "cell_type": "code",
   "execution_count": 12,
   "metadata": {},
   "outputs": [],
   "source": [
    "def correct_spelling(dataframe):\n",
    "    for i in range(dataframe.shape[0]):\n",
    "        dataframe.text[i] = str(TextBlob(str(' '.join(data.iloc[i].text))).correct())\n",
    "    return dataframe"
   ]
  },
  {
   "cell_type": "code",
   "execution_count": 13,
   "metadata": {},
   "outputs": [],
   "source": [
    "# [[[For later]]] COUNT number of corrections:\n"
   ]
  },
  {
   "attachments": {},
   "cell_type": "markdown",
   "metadata": {},
   "source": [
    "-------------\n",
    "### Vectorization:\n",
    "\n",
    "Uses TF-IDF, and so also removes rare words:"
   ]
  },
  {
   "cell_type": "code",
   "execution_count": 14,
   "metadata": {},
   "outputs": [],
   "source": [
    "def vectorize(dataframe):\n",
    "    # Instantiate vectorizer:\n",
    "    vectorizer = TfidfVectorizer(min_df=MIN_DOC_FREQ, max_df=MAX_DOC_FREQ)\n",
    "\n",
    "    # Fit & transform training data:\n",
    "    X = vectorizer.fit_transform(dataframe['text'].apply(' '.join))\n",
    "\n",
    "    # Re-cast vectorized data into DataFrame format:\n",
    "    X_df = pd.DataFrame(X.toarray(), columns=vectorizer.get_feature_names_out())\n",
    "\n",
    "    # Append vectorized output onto the input dataframe:\n",
    "    return pd.concat([data, X_df], axis=1)\n"
   ]
  },
  {
   "attachments": {},
   "cell_type": "markdown",
   "metadata": {},
   "source": [
    "------"
   ]
  },
  {
   "cell_type": "code",
   "execution_count": 15,
   "metadata": {},
   "outputs": [
    {
     "data": {
      "text/html": [
       "<div>\n",
       "<style scoped>\n",
       "    .dataframe tbody tr th:only-of-type {\n",
       "        vertical-align: middle;\n",
       "    }\n",
       "\n",
       "    .dataframe tbody tr th {\n",
       "        vertical-align: top;\n",
       "    }\n",
       "\n",
       "    .dataframe thead th {\n",
       "        text-align: right;\n",
       "    }\n",
       "</style>\n",
       "<table border=\"1\" class=\"dataframe\">\n",
       "  <thead>\n",
       "    <tr style=\"text-align: right;\">\n",
       "      <th></th>\n",
       "      <th>target</th>\n",
       "      <th>text</th>\n",
       "      <th>able</th>\n",
       "      <th>accept</th>\n",
       "      <th>accord</th>\n",
       "      <th>achieve</th>\n",
       "      <th>acknowledgment</th>\n",
       "      <th>act</th>\n",
       "      <th>active</th>\n",
       "      <th>activity</th>\n",
       "      <th>...</th>\n",
       "      <th>wolf</th>\n",
       "      <th>woman</th>\n",
       "      <th>wooden</th>\n",
       "      <th>work</th>\n",
       "      <th>world</th>\n",
       "      <th>write</th>\n",
       "      <th>yeah</th>\n",
       "      <th>yet</th>\n",
       "      <th>york</th>\n",
       "      <th>zone</th>\n",
       "    </tr>\n",
       "  </thead>\n",
       "  <tbody>\n",
       "    <tr>\n",
       "      <th>0</th>\n",
       "      <td>INTJ</td>\n",
       "      <td>[know, tool, use, interaction, people, excuse,...</td>\n",
       "      <td>0.000000</td>\n",
       "      <td>0.000000</td>\n",
       "      <td>0.041373</td>\n",
       "      <td>0.000000</td>\n",
       "      <td>0.041373</td>\n",
       "      <td>0.000000</td>\n",
       "      <td>0.000000</td>\n",
       "      <td>0.000000</td>\n",
       "      <td>...</td>\n",
       "      <td>0.000000</td>\n",
       "      <td>0.000000</td>\n",
       "      <td>0.000000</td>\n",
       "      <td>0.000000</td>\n",
       "      <td>0.000000</td>\n",
       "      <td>0.041373</td>\n",
       "      <td>0.000000</td>\n",
       "      <td>0.031465</td>\n",
       "      <td>0.000000</td>\n",
       "      <td>0.000000</td>\n",
       "    </tr>\n",
       "    <tr>\n",
       "      <th>1</th>\n",
       "      <td>INTJ</td>\n",
       "      <td>[ran, music, eh, pp, yeah, know, valid, well, ...</td>\n",
       "      <td>0.092274</td>\n",
       "      <td>0.070177</td>\n",
       "      <td>0.000000</td>\n",
       "      <td>0.000000</td>\n",
       "      <td>0.000000</td>\n",
       "      <td>0.070177</td>\n",
       "      <td>0.000000</td>\n",
       "      <td>0.046137</td>\n",
       "      <td>...</td>\n",
       "      <td>0.046137</td>\n",
       "      <td>0.035088</td>\n",
       "      <td>0.046137</td>\n",
       "      <td>0.105265</td>\n",
       "      <td>0.046137</td>\n",
       "      <td>0.000000</td>\n",
       "      <td>0.046137</td>\n",
       "      <td>0.000000</td>\n",
       "      <td>0.046137</td>\n",
       "      <td>0.000000</td>\n",
       "    </tr>\n",
       "    <tr>\n",
       "      <th>2</th>\n",
       "      <td>INTJ</td>\n",
       "      <td>[preferably, p, he, low, except, we, lad, vide...</td>\n",
       "      <td>0.000000</td>\n",
       "      <td>0.029941</td>\n",
       "      <td>0.000000</td>\n",
       "      <td>0.039369</td>\n",
       "      <td>0.000000</td>\n",
       "      <td>0.029941</td>\n",
       "      <td>0.039369</td>\n",
       "      <td>0.000000</td>\n",
       "      <td>...</td>\n",
       "      <td>0.000000</td>\n",
       "      <td>0.029941</td>\n",
       "      <td>0.000000</td>\n",
       "      <td>0.179648</td>\n",
       "      <td>0.000000</td>\n",
       "      <td>0.000000</td>\n",
       "      <td>0.000000</td>\n",
       "      <td>0.029941</td>\n",
       "      <td>0.000000</td>\n",
       "      <td>0.039369</td>\n",
       "    </tr>\n",
       "  </tbody>\n",
       "</table>\n",
       "<p>3 rows × 774 columns</p>\n",
       "</div>"
      ],
      "text/plain": [
       "  target                                               text      able   \n",
       "0   INTJ  [know, tool, use, interaction, people, excuse,...  0.000000  \\\n",
       "1   INTJ  [ran, music, eh, pp, yeah, know, valid, well, ...  0.092274   \n",
       "2   INTJ  [preferably, p, he, low, except, we, lad, vide...  0.000000   \n",
       "\n",
       "     accept    accord   achieve  acknowledgment       act    active  activity   \n",
       "0  0.000000  0.041373  0.000000        0.041373  0.000000  0.000000  0.000000  \\\n",
       "1  0.070177  0.000000  0.000000        0.000000  0.070177  0.000000  0.046137   \n",
       "2  0.029941  0.000000  0.039369        0.000000  0.029941  0.039369  0.000000   \n",
       "\n",
       "   ...      wolf     woman    wooden      work     world     write      yeah   \n",
       "0  ...  0.000000  0.000000  0.000000  0.000000  0.000000  0.041373  0.000000  \\\n",
       "1  ...  0.046137  0.035088  0.046137  0.105265  0.046137  0.000000  0.046137   \n",
       "2  ...  0.000000  0.029941  0.000000  0.179648  0.000000  0.000000  0.000000   \n",
       "\n",
       "        yet      york      zone  \n",
       "0  0.031465  0.000000  0.000000  \n",
       "1  0.000000  0.046137  0.000000  \n",
       "2  0.029941  0.000000  0.039369  \n",
       "\n",
       "[3 rows x 774 columns]"
      ]
     },
     "execution_count": 15,
     "metadata": {},
     "output_type": "execute_result"
    }
   ],
   "source": [
    "test = tokenize(data)   # <--------------------\n",
    "test = remove_MBTI_types(test)\n",
    "test = correct_spelling(test)\n",
    "test = tokenize(test)   # <--------------------\n",
    "test = vectorize(test)\n",
    "test\n"
   ]
  }
 ],
 "metadata": {
  "kernelspec": {
   "display_name": "post2personality",
   "language": "python",
   "name": "python3"
  },
  "language_info": {
   "codemirror_mode": {
    "name": "ipython",
    "version": 3
   },
   "file_extension": ".py",
   "mimetype": "text/x-python",
   "name": "python",
   "nbconvert_exporter": "python",
   "pygments_lexer": "ipython3",
   "version": "3.10.6"
  },
  "orig_nbformat": 4,
  "vscode": {
   "interpreter": {
    "hash": "3a1cb8e57610f5b950d2c8f353a39f6316c3a264b0be346ea5730664fe56e830"
   }
  }
 },
 "nbformat": 4,
 "nbformat_minor": 2
}
