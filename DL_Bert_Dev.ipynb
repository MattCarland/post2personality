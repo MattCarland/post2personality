{
 "cells": [
  {
   "cell_type": "code",
   "execution_count": null,
   "metadata": {},
   "outputs": [],
   "source": [
    "# Import Libraries\n",
    "import pandas as pd\n",
    "import numpy as np\n",
    "import pickle\n",
    "import os\n",
    "\n",
    "from tensorflow.keras import layers, Sequential\n",
    "from tensorflow.keras.callbacks import EarlyStopping\n",
    "from tensorflow.keras.preprocessing.sequence import pad_sequences\n",
    "\n",
    "os.environ['TF_CPP_MIN_LOG_LEVEL'] = '2'"
   ]
  },
  {
   "cell_type": "code",
   "execution_count": null,
   "metadata": {},
   "outputs": [],
   "source": [
    "# pip install -r requirements.txt"
   ]
  },
  {
   "cell_type": "code",
   "execution_count": null,
   "metadata": {},
   "outputs": [],
   "source": [
    "# pip install tensorflow"
   ]
  },
  {
   "cell_type": "code",
   "execution_count": null,
   "metadata": {},
   "outputs": [],
   "source": [
    "# pip install transformers"
   ]
  },
  {
   "cell_type": "code",
   "execution_count": null,
   "metadata": {},
   "outputs": [],
   "source": [
    "# pip install torch"
   ]
  },
  {
   "cell_type": "code",
   "execution_count": null,
   "metadata": {},
   "outputs": [],
   "source": [
    "# Globals for automatic nature\n",
    "MAKE_DATA = True\n",
    "ROWS = 100"
   ]
  },
  {
   "cell_type": "code",
   "execution_count": null,
   "metadata": {},
   "outputs": [],
   "source": [
    "# Load data\n",
    "from data.data import Data\n",
    "\n",
    "if MAKE_DATA:\n",
    "    data_raw = Data().get_all_data()\n",
    "    df = data_raw['MBTI 500']\n",
    "\n",
    "    df = df[['type', 'posts']]\n",
    "    df.rename(columns={'posts': 'text'}, inplace=True)\n",
    "    df = df.sample(n = ROWS, ignore_index = True)\n",
    "\n",
    "    print(f\"MBTI_500 loaded with shape: {df.shape}\")\n"
   ]
  },
  {
   "cell_type": "code",
   "execution_count": null,
   "metadata": {},
   "outputs": [],
   "source": [
    "# Bert Preprocessing\n",
    "from scripts.BERT_preprocessing import bert_training_preprocessing\n",
    "\n",
    "df_list = bert_training_preprocessing(df)\n",
    "df_list[0]"
   ]
  },
  {
   "cell_type": "code",
   "execution_count": null,
   "metadata": {},
   "outputs": [],
   "source": [
    "Xlist = []\n",
    "for i in range(len(df_list[0]['embeddings'])):\n",
    "    z = np.array(df_list[0]['embeddings'][i])\n",
    "    z_pad = np.pad(z, ((0, 200 - z.shape[0]), (0, 0)), 'constant', constant_values=-1000)\n",
    "    Xlist.append(z_pad)\n",
    "X_ug = np.vstack(Xlist)"
   ]
  },
  {
   "cell_type": "code",
   "execution_count": null,
   "metadata": {},
   "outputs": [],
   "source": [
    "y = df_list[0].iloc[:,[0]]\n",
    "X = X_ug.reshape(y.shape[0],-1,768)\n",
    "print(y.shape, X.shape)"
   ]
  },
  {
   "cell_type": "code",
   "execution_count": null,
   "metadata": {},
   "outputs": [],
   "source": [
    "from sklearn.preprocessing import LabelBinarizer\n",
    "label_as_binary = LabelBinarizer()\n",
    "ylabels = label_as_binary.fit_transform(y)"
   ]
  },
  {
   "cell_type": "code",
   "execution_count": null,
   "metadata": {},
   "outputs": [],
   "source": [
    "#0. Sequential Model\n",
    "model = Sequential()\n",
    "\n",
    "model.add(layers.Masking(mask_value=-1000))\n",
    "\n",
    "#1. Normalization\n",
    "model.add(layers.Normalization())\n",
    "\n",
    "#2. SimpleRNN layer, 20 units, tanh\n",
    "model.add(layers.LSTM(units = 25, activation = 'sigmoid'))\n",
    "\n",
    "\n",
    "model.add(layers.Dense(512, activation='sigmoid', kernel_regularizer='l1'))\n",
    "\n",
    "model.add(layers.Dropout(.30))\n",
    "\n",
    "model.add(layers.Dense(512//2, activation='sigmoid', kernel_regularizer='l1'))\n",
    "model.add(layers.Dense(512//4, activation='sigmoid', kernel_regularizer='l2'))\n",
    "model.add(layers.Dense(512//8, activation='sigmoid', kernel_regularizer='l2'))\n",
    "\n",
    "model.add(layers.Dense(32, activation='relu', kernel_regularizer='l1'))\n",
    "\n",
    "\n",
    "\n",
    "#4 Dense Layer with Return Layer\n",
    "model.add(layers.Dense(1, activation = 'sigmoid'))\n",
    "\n",
    "model.compile(loss = 'mae', \n",
    "              optimizer='Adam')\n",
    "            #   metrics = ['accuracy'])"
   ]
  },
  {
   "cell_type": "code",
   "execution_count": null,
   "metadata": {},
   "outputs": [],
   "source": [
    "from tensorflow.keras.callbacks import EarlyStopping\n",
    "\n",
    "es = EarlyStopping(patience = 5)\n",
    "\n",
    "history = model.fit(X, ylabels,\n",
    "                  validation_split = .2,\n",
    "                  epochs = 20,\n",
    "                  batch_size = 32,\n",
    "                  callbacks = [es])"
   ]
  },
  {
   "cell_type": "code",
   "execution_count": null,
   "metadata": {},
   "outputs": [],
   "source": [
    "model.predict(X[:1])"
   ]
  },
  {
   "cell_type": "code",
   "execution_count": 17,
   "metadata": {},
   "outputs": [
    {
     "data": {
      "text/html": [
       "<div>\n",
       "<style scoped>\n",
       "    .dataframe tbody tr th:only-of-type {\n",
       "        vertical-align: middle;\n",
       "    }\n",
       "\n",
       "    .dataframe tbody tr th {\n",
       "        vertical-align: top;\n",
       "    }\n",
       "\n",
       "    .dataframe thead th {\n",
       "        text-align: right;\n",
       "    }\n",
       "</style>\n",
       "<table border=\"1\" class=\"dataframe\">\n",
       "  <thead>\n",
       "    <tr style=\"text-align: right;\">\n",
       "      <th></th>\n",
       "      <th>loss</th>\n",
       "      <th>val_loss</th>\n",
       "    </tr>\n",
       "  </thead>\n",
       "  <tbody>\n",
       "    <tr>\n",
       "      <th>0</th>\n",
       "      <td>65.489227</td>\n",
       "      <td>59.243378</td>\n",
       "    </tr>\n",
       "    <tr>\n",
       "      <th>1</th>\n",
       "      <td>54.501732</td>\n",
       "      <td>49.008663</td>\n",
       "    </tr>\n",
       "    <tr>\n",
       "      <th>2</th>\n",
       "      <td>44.625706</td>\n",
       "      <td>39.799294</td>\n",
       "    </tr>\n",
       "    <tr>\n",
       "      <th>3</th>\n",
       "      <td>35.797600</td>\n",
       "      <td>31.603893</td>\n",
       "    </tr>\n",
       "    <tr>\n",
       "      <th>4</th>\n",
       "      <td>28.018009</td>\n",
       "      <td>24.434525</td>\n",
       "    </tr>\n",
       "    <tr>\n",
       "      <th>5</th>\n",
       "      <td>21.280476</td>\n",
       "      <td>18.295530</td>\n",
       "    </tr>\n",
       "    <tr>\n",
       "      <th>6</th>\n",
       "      <td>15.569308</td>\n",
       "      <td>13.199750</td>\n",
       "    </tr>\n",
       "    <tr>\n",
       "      <th>7</th>\n",
       "      <td>10.921538</td>\n",
       "      <td>9.155286</td>\n",
       "    </tr>\n",
       "    <tr>\n",
       "      <th>8</th>\n",
       "      <td>7.316830</td>\n",
       "      <td>6.164150</td>\n",
       "    </tr>\n",
       "    <tr>\n",
       "      <th>9</th>\n",
       "      <td>4.769752</td>\n",
       "      <td>4.223480</td>\n",
       "    </tr>\n",
       "    <tr>\n",
       "      <th>10</th>\n",
       "      <td>3.274061</td>\n",
       "      <td>3.332329</td>\n",
       "    </tr>\n",
       "    <tr>\n",
       "      <th>11</th>\n",
       "      <td>2.647754</td>\n",
       "      <td>2.818883</td>\n",
       "    </tr>\n",
       "    <tr>\n",
       "      <th>12</th>\n",
       "      <td>2.130005</td>\n",
       "      <td>2.442602</td>\n",
       "    </tr>\n",
       "    <tr>\n",
       "      <th>13</th>\n",
       "      <td>1.847672</td>\n",
       "      <td>2.206681</td>\n",
       "    </tr>\n",
       "    <tr>\n",
       "      <th>14</th>\n",
       "      <td>1.628197</td>\n",
       "      <td>2.031860</td>\n",
       "    </tr>\n",
       "    <tr>\n",
       "      <th>15</th>\n",
       "      <td>1.469645</td>\n",
       "      <td>1.895739</td>\n",
       "    </tr>\n",
       "    <tr>\n",
       "      <th>16</th>\n",
       "      <td>1.343479</td>\n",
       "      <td>1.782810</td>\n",
       "    </tr>\n",
       "    <tr>\n",
       "      <th>17</th>\n",
       "      <td>1.237286</td>\n",
       "      <td>1.688527</td>\n",
       "    </tr>\n",
       "    <tr>\n",
       "      <th>18</th>\n",
       "      <td>1.148060</td>\n",
       "      <td>1.603628</td>\n",
       "    </tr>\n",
       "    <tr>\n",
       "      <th>19</th>\n",
       "      <td>1.068840</td>\n",
       "      <td>1.533587</td>\n",
       "    </tr>\n",
       "  </tbody>\n",
       "</table>\n",
       "</div>"
      ],
      "text/plain": [
       "         loss   val_loss\n",
       "0   65.489227  59.243378\n",
       "1   54.501732  49.008663\n",
       "2   44.625706  39.799294\n",
       "3   35.797600  31.603893\n",
       "4   28.018009  24.434525\n",
       "5   21.280476  18.295530\n",
       "6   15.569308  13.199750\n",
       "7   10.921538   9.155286\n",
       "8    7.316830   6.164150\n",
       "9    4.769752   4.223480\n",
       "10   3.274061   3.332329\n",
       "11   2.647754   2.818883\n",
       "12   2.130005   2.442602\n",
       "13   1.847672   2.206681\n",
       "14   1.628197   2.031860\n",
       "15   1.469645   1.895739\n",
       "16   1.343479   1.782810\n",
       "17   1.237286   1.688527\n",
       "18   1.148060   1.603628\n",
       "19   1.068840   1.533587"
      ]
     },
     "execution_count": 17,
     "metadata": {},
     "output_type": "execute_result"
    }
   ],
   "source": [
    "pd.DataFrame(history.history)"
   ]
  },
  {
   "cell_type": "code",
   "execution_count": null,
   "metadata": {},
   "outputs": [],
   "source": [
    "# Create or Load Models\n",
    "\n",
    "DIE\n",
    "\n",
    "from model.DL import *\n",
    "\n",
    "model_list = initialize_models(metrics='accuracy',\n",
    "                               loss='binary_crossentropy',\n",
    "                               vocab_size=768)"
   ]
  },
  {
   "cell_type": "code",
   "execution_count": null,
   "metadata": {},
   "outputs": [],
   "source": [
    "model_list[0].summary()"
   ]
  },
  {
   "cell_type": "code",
   "execution_count": null,
   "metadata": {},
   "outputs": [],
   "source": [
    "# Train Model\n",
    "\n",
    "train_models(df_list, model_list)"
   ]
  },
  {
   "cell_type": "code",
   "execution_count": null,
   "metadata": {},
   "outputs": [],
   "source": [
    "# Predict Model"
   ]
  }
 ],
 "metadata": {
  "kernelspec": {
   "display_name": "post2personality",
   "language": "python",
   "name": "python3"
  },
  "language_info": {
   "codemirror_mode": {
    "name": "ipython",
    "version": 3
   },
   "file_extension": ".py",
   "mimetype": "text/x-python",
   "name": "python",
   "nbconvert_exporter": "python",
   "pygments_lexer": "ipython3",
   "version": "3.10.6"
  },
  "orig_nbformat": 4
 },
 "nbformat": 4,
 "nbformat_minor": 2
}
