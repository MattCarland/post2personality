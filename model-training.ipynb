{
 "cells": [
  {
   "attachments": {},
   "cell_type": "markdown",
   "metadata": {},
   "source": [
    "# Model Training\n",
    "\n",
    "Preprocess Data, build SGD model for E AND I only, compare scores between unbalanced and balanced dataset"
   ]
  },
  {
   "cell_type": "code",
   "execution_count": 1,
   "metadata": {},
   "outputs": [],
   "source": [
    "##### IMPORTS\n",
    "\n",
    "import pandas as pd\n",
    "\n",
    "\n",
    "from sklearn.model_selection import train_test_split, cross_val_predict\n",
    "from sklearn.metrics import classification_report, balanced_accuracy_score"
   ]
  },
  {
   "cell_type": "code",
   "execution_count": 2,
   "metadata": {},
   "outputs": [],
   "source": [
    "INPUT_ROWS = 1000 # MAX 20000\n",
    "BIG_DATA_ROWS = 400 # Less than 7500\n",
    "\n",
    "TRAINING_MBTI_TYPE = \"e_i\"\n",
    "\n",
    "col_list = ['e_i',\"s_n\",'f_t',\"p_j\", 'type', 'text']\n",
    "\n",
    "\n",
    "if INPUT_ROWS < BIG_DATA_ROWS or BIG_DATA_ROWS > 7500 or INPUT_ROWS > 20000:\n",
    "    ValueError(\"ArithmeticError detected\")"
   ]
  },
  {
   "cell_type": "code",
   "execution_count": 3,
   "metadata": {},
   "outputs": [
    {
     "name": "stdout",
     "output_type": "stream",
     "text": [
      "<class 'pandas.core.frame.DataFrame'>\n",
      "RangeIndex: 300 entries, 0 to 299\n",
      "Data columns (total 2 columns):\n",
      " #   Column  Non-Null Count  Dtype \n",
      "---  ------  --------------  ----- \n",
      " 0   type    300 non-null    object\n",
      " 1   text    300 non-null    object\n",
      "dtypes: object(2)\n",
      "memory usage: 4.8+ KB\n"
     ]
    },
    {
     "name": "stderr",
     "output_type": "stream",
     "text": [
      "/tmp/ipykernel_19891/1106222648.py:15: SettingWithCopyWarning: \n",
      "A value is trying to be set on a copy of a slice from a DataFrame\n",
      "\n",
      "See the caveats in the documentation: https://pandas.pydata.org/pandas-docs/stable/user_guide/indexing.html#returning-a-view-versus-a-copy\n",
      "  df1.rename(columns={'label': 'type'}, inplace=True)\n"
     ]
    }
   ],
   "source": [
    "from data.data import Data\n",
    "\n",
    "# PreProcess it ALL!!!!\n",
    "## SIKE NOT ENOUGH MEMORY\n",
    "# LIMIT TO 10K ROWS INPUT #\n",
    "\n",
    "data_raw = Data().get_all_data()\n",
    "\n",
    "n_1 = int((INPUT_ROWS - BIG_DATA_ROWS) / 2)\n",
    "\n",
    "\n",
    "# 8670 ROWS INPUT #\n",
    "df1 = data_raw['twitter_MBTI']\n",
    "df1 = df1[['label', 'text']]\n",
    "df1.rename(columns={'label': 'type'}, inplace=True)\n",
    "df1 = df1.sample(n = n_1, ignore_index = True, random_state = 1)\n",
    "\n",
    "# 106062 ROWS INPUT #\n",
    "df2 = data_raw['MBTI 500']\n",
    "df2 = df2[['type', 'posts']]\n",
    "df2.rename(columns={'posts': 'text'}, inplace=True)\n",
    "df2 = df2.sample(n = BIG_DATA_ROWS, ignore_index = True, random_state = 1) # > 15000 combined, > 20000 df1 + df2\n",
    "\n",
    "## SPECIFCALLY CREATING DIV 0 ERROR, ASK ABOUT IT ##\n",
    "# 7811 ROWS INPUT #\n",
    "df3 = data_raw['mbti_1']\n",
    "df3.rename(columns={'posts': 'text'}, inplace=True)\n",
    "df3 = df3.sample(n = n_1, ignore_index = True, random_state = 1)\n",
    "# ####################################################\n",
    "\n",
    "## Combined all data for PP if desired\n",
    "data_combined = pd.concat([df3], ignore_index=True)\n",
    "data_combined.info()"
   ]
  },
  {
   "cell_type": "code",
   "execution_count": 4,
   "metadata": {},
   "outputs": [
    {
     "name": "stdout",
     "output_type": "stream",
     "text": [
      "final dataset contains 300 rows and 2945 columns\n"
     ]
    }
   ],
   "source": [
    "from scripts.Preprocessing_full import training_preprocessing\n",
    "\n",
    "# Preprocessing Pipeline on Training Data\n",
    "\n",
    "df_pp = training_preprocessing(data_combined)"
   ]
  },
  {
   "cell_type": "code",
   "execution_count": 5,
   "metadata": {},
   "outputs": [
    {
     "data": {
      "text/plain": [
       "'e'"
      ]
     },
     "execution_count": 5,
     "metadata": {},
     "output_type": "execute_result"
    }
   ],
   "source": [
    "df1.columns.to_list()[1][1]"
   ]
  },
  {
   "cell_type": "code",
   "execution_count": 6,
   "metadata": {},
   "outputs": [],
   "source": [
    "# # Drop unnecessary columns and lower all strings\n",
    "for col in col_list:\n",
    "    if col == TRAINING_MBTI_TYPE:\n",
    "        col_list.remove(col)\n",
    "\n",
    "df_pp[TRAINING_MBTI_TYPE] = df_pp[TRAINING_MBTI_TYPE].str.lower()\n",
    "df_pp_ready = df_pp.drop(columns=col_list)"
   ]
  },
  {
   "cell_type": "code",
   "execution_count": 7,
   "metadata": {},
   "outputs": [],
   "source": [
    "def sampling_n_elements(group, n):\n",
    "    if len(group) < n:\n",
    "        return group\n",
    "    return group.sample(n)\n",
    "\n",
    "def balancer(df, col):\n",
    "    col_1 = col[0]\n",
    "    col_2 = col[2]\n",
    "    \n",
    "    val_counts_dict = df[col].value_counts().to_dict()\n",
    "    \n",
    "    if val_counts_dict[col_1] < val_counts_dict[col_2]:\n",
    "        n = val_counts_dict[col_1]\n",
    "    else:\n",
    "        n = val_counts_dict[col_2]\n",
    "\n",
    "    balanced_df = df.groupby(col).apply(lambda x: sampling_n_elements(x, n = n)).reset_index(drop=True)\n",
    "    \n",
    "    return balanced_df"
   ]
  },
  {
   "cell_type": "code",
   "execution_count": 8,
   "metadata": {},
   "outputs": [],
   "source": [
    "## Unbalanced Dataset (No Change)\n",
    "df_unbalanced = df_pp_ready\n",
    "\n",
    "## Balanced Dataset, Limit rows to the same\n",
    "\n",
    "df_balanced = balancer(df_pp_ready, TRAINING_MBTI_TYPE)"
   ]
  },
  {
   "cell_type": "code",
   "execution_count": 9,
   "metadata": {},
   "outputs": [
    {
     "name": "stdout",
     "output_type": "stream",
     "text": [
      "Unbalanced DF e_i: \n",
      "{'i': 245, 'e': 55}\n",
      "Balanced DF e_i: \n",
      "{'e': 55, 'i': 55}\n"
     ]
    }
   ],
   "source": [
    "print(f\"Unbalanced DF {TRAINING_MBTI_TYPE}: \\n{df_unbalanced[TRAINING_MBTI_TYPE].value_counts().to_dict()}\")\n",
    "print(f\"Balanced DF {TRAINING_MBTI_TYPE}: \\n{df_balanced[TRAINING_MBTI_TYPE].value_counts().to_dict()}\")"
   ]
  },
  {
   "cell_type": "code",
   "execution_count": 10,
   "metadata": {},
   "outputs": [],
   "source": [
    "def PredictDict(model, X_test, y_test):\n",
    "    y_pred = cross_val_predict(model, X_test, y_test, cv = 10)\n",
    "    report = classification_report(y_test, y_pred, output_dict=True)\n",
    "    bal_acc = balanced_accuracy_score(y_pred, y_test)\n",
    "    report['bal_acc'] = bal_acc\n",
    "    return report"
   ]
  },
  {
   "cell_type": "code",
   "execution_count": 11,
   "metadata": {},
   "outputs": [],
   "source": [
    "# MODELS #\n",
    "from sklearn.linear_model import SGDClassifier, LogisticRegression\n",
    "\n",
    "\n",
    "model = SGDClassifier()"
   ]
  },
  {
   "cell_type": "code",
   "execution_count": 12,
   "metadata": {},
   "outputs": [],
   "source": [
    "## Create Function to Instantiate Model, fit model, and evaluate\n",
    "\n",
    "def Model_Tester(dataset, \n",
    "                 model_selection,\n",
    "                 random_state = 1,\n",
    "                 Prediction = True):\n",
    "    \"\"\"\n",
    "        Test a machine learning model on a given dataset.\n",
    "\n",
    "    Args:\n",
    "        dataset (pandas.DataFrame): The dataset to be used for testing the model.\n",
    "            The first element of the dataset is the target variable (`y`), \n",
    "            and everything else is the feature variable (`X`).\n",
    "        model_selection: The machine learning model to be tested.\n",
    "        random_state (int): Random seed for reproducibility. Default is 1.\n",
    "        Prediction (bool): Indicates whether to perform prediction and return prediction results.\n",
    "            Default is True.\n",
    "\n",
    "    Returns:\n",
    "        dict or model: If `Prediction` is True, a dictionary containing the prediction results is returned.\n",
    "            The keys are 'y_true' (true target values), 'y_pred' (predicted target values),\n",
    "            and 'accuracy' (accuracy score of the model). \n",
    "            If `Prediction` is False, the trained model is returned.\n",
    "    \"\"\"\n",
    "    \n",
    "    \n",
    "    # Whatever y and X are, change here\n",
    "    y = dataset.iloc[:,[0]]\n",
    "    X = dataset.drop(columns = dataset.columns[0])\n",
    "    \n",
    "    X_train, X_test, y_train, y_test = train_test_split(X, y,\n",
    "                                                    test_size=.3,\n",
    "                                                    random_state=random_state) \n",
    "    \n",
    "    \n",
    "    model = model_selection\n",
    "    \n",
    "    model.fit(X_train, y_train)\n",
    "    \n",
    "    if Prediction == True:\n",
    "        prediction_dict = PredictDict(model, X_test, y_test)\n",
    "        return prediction_dict\n",
    "    \n",
    "    return model"
   ]
  },
  {
   "cell_type": "code",
   "execution_count": 13,
   "metadata": {},
   "outputs": [
    {
     "name": "stderr",
     "output_type": "stream",
     "text": [
      "/home/aforbesj/.pyenv/versions/3.10.6/envs/post2personality/lib/python3.10/site-packages/sklearn/utils/validation.py:1143: DataConversionWarning: A column-vector y was passed when a 1d array was expected. Please change the shape of y to (n_samples, ), for example using ravel().\n",
      "  y = column_or_1d(y, warn=True)\n",
      "/home/aforbesj/.pyenv/versions/3.10.6/envs/post2personality/lib/python3.10/site-packages/sklearn/utils/validation.py:1143: DataConversionWarning: A column-vector y was passed when a 1d array was expected. Please change the shape of y to (n_samples, ), for example using ravel().\n",
      "  y = column_or_1d(y, warn=True)\n",
      "/home/aforbesj/.pyenv/versions/3.10.6/envs/post2personality/lib/python3.10/site-packages/sklearn/utils/validation.py:1143: DataConversionWarning: A column-vector y was passed when a 1d array was expected. Please change the shape of y to (n_samples, ), for example using ravel().\n",
      "  y = column_or_1d(y, warn=True)\n",
      "/home/aforbesj/.pyenv/versions/3.10.6/envs/post2personality/lib/python3.10/site-packages/sklearn/utils/validation.py:1143: DataConversionWarning: A column-vector y was passed when a 1d array was expected. Please change the shape of y to (n_samples, ), for example using ravel().\n",
      "  y = column_or_1d(y, warn=True)\n",
      "/home/aforbesj/.pyenv/versions/3.10.6/envs/post2personality/lib/python3.10/site-packages/sklearn/utils/validation.py:1143: DataConversionWarning: A column-vector y was passed when a 1d array was expected. Please change the shape of y to (n_samples, ), for example using ravel().\n",
      "  y = column_or_1d(y, warn=True)\n",
      "/home/aforbesj/.pyenv/versions/3.10.6/envs/post2personality/lib/python3.10/site-packages/sklearn/utils/validation.py:1143: DataConversionWarning: A column-vector y was passed when a 1d array was expected. Please change the shape of y to (n_samples, ), for example using ravel().\n",
      "  y = column_or_1d(y, warn=True)\n",
      "/home/aforbesj/.pyenv/versions/3.10.6/envs/post2personality/lib/python3.10/site-packages/sklearn/utils/validation.py:1143: DataConversionWarning: A column-vector y was passed when a 1d array was expected. Please change the shape of y to (n_samples, ), for example using ravel().\n",
      "  y = column_or_1d(y, warn=True)\n",
      "/home/aforbesj/.pyenv/versions/3.10.6/envs/post2personality/lib/python3.10/site-packages/sklearn/utils/validation.py:1143: DataConversionWarning: A column-vector y was passed when a 1d array was expected. Please change the shape of y to (n_samples, ), for example using ravel().\n",
      "  y = column_or_1d(y, warn=True)\n",
      "/home/aforbesj/.pyenv/versions/3.10.6/envs/post2personality/lib/python3.10/site-packages/sklearn/utils/validation.py:1143: DataConversionWarning: A column-vector y was passed when a 1d array was expected. Please change the shape of y to (n_samples, ), for example using ravel().\n",
      "  y = column_or_1d(y, warn=True)\n",
      "/home/aforbesj/.pyenv/versions/3.10.6/envs/post2personality/lib/python3.10/site-packages/sklearn/utils/validation.py:1143: DataConversionWarning: A column-vector y was passed when a 1d array was expected. Please change the shape of y to (n_samples, ), for example using ravel().\n",
      "  y = column_or_1d(y, warn=True)\n",
      "/home/aforbesj/.pyenv/versions/3.10.6/envs/post2personality/lib/python3.10/site-packages/sklearn/utils/validation.py:1143: DataConversionWarning: A column-vector y was passed when a 1d array was expected. Please change the shape of y to (n_samples, ), for example using ravel().\n",
      "  y = column_or_1d(y, warn=True)\n"
     ]
    }
   ],
   "source": [
    "history_unbalanced = Model_Tester(df_unbalanced,\n",
    "                                     model)"
   ]
  },
  {
   "cell_type": "code",
   "execution_count": 14,
   "metadata": {},
   "outputs": [
    {
     "name": "stderr",
     "output_type": "stream",
     "text": [
      "/home/aforbesj/.pyenv/versions/3.10.6/envs/post2personality/lib/python3.10/site-packages/sklearn/utils/validation.py:1143: DataConversionWarning: A column-vector y was passed when a 1d array was expected. Please change the shape of y to (n_samples, ), for example using ravel().\n",
      "  y = column_or_1d(y, warn=True)\n",
      "/home/aforbesj/.pyenv/versions/3.10.6/envs/post2personality/lib/python3.10/site-packages/sklearn/utils/validation.py:1143: DataConversionWarning: A column-vector y was passed when a 1d array was expected. Please change the shape of y to (n_samples, ), for example using ravel().\n",
      "  y = column_or_1d(y, warn=True)\n",
      "/home/aforbesj/.pyenv/versions/3.10.6/envs/post2personality/lib/python3.10/site-packages/sklearn/utils/validation.py:1143: DataConversionWarning: A column-vector y was passed when a 1d array was expected. Please change the shape of y to (n_samples, ), for example using ravel().\n",
      "  y = column_or_1d(y, warn=True)\n",
      "/home/aforbesj/.pyenv/versions/3.10.6/envs/post2personality/lib/python3.10/site-packages/sklearn/utils/validation.py:1143: DataConversionWarning: A column-vector y was passed when a 1d array was expected. Please change the shape of y to (n_samples, ), for example using ravel().\n",
      "  y = column_or_1d(y, warn=True)\n",
      "/home/aforbesj/.pyenv/versions/3.10.6/envs/post2personality/lib/python3.10/site-packages/sklearn/utils/validation.py:1143: DataConversionWarning: A column-vector y was passed when a 1d array was expected. Please change the shape of y to (n_samples, ), for example using ravel().\n",
      "  y = column_or_1d(y, warn=True)\n",
      "/home/aforbesj/.pyenv/versions/3.10.6/envs/post2personality/lib/python3.10/site-packages/sklearn/utils/validation.py:1143: DataConversionWarning: A column-vector y was passed when a 1d array was expected. Please change the shape of y to (n_samples, ), for example using ravel().\n",
      "  y = column_or_1d(y, warn=True)\n",
      "/home/aforbesj/.pyenv/versions/3.10.6/envs/post2personality/lib/python3.10/site-packages/sklearn/utils/validation.py:1143: DataConversionWarning: A column-vector y was passed when a 1d array was expected. Please change the shape of y to (n_samples, ), for example using ravel().\n",
      "  y = column_or_1d(y, warn=True)\n",
      "/home/aforbesj/.pyenv/versions/3.10.6/envs/post2personality/lib/python3.10/site-packages/sklearn/utils/validation.py:1143: DataConversionWarning: A column-vector y was passed when a 1d array was expected. Please change the shape of y to (n_samples, ), for example using ravel().\n",
      "  y = column_or_1d(y, warn=True)\n",
      "/home/aforbesj/.pyenv/versions/3.10.6/envs/post2personality/lib/python3.10/site-packages/sklearn/utils/validation.py:1143: DataConversionWarning: A column-vector y was passed when a 1d array was expected. Please change the shape of y to (n_samples, ), for example using ravel().\n",
      "  y = column_or_1d(y, warn=True)\n",
      "/home/aforbesj/.pyenv/versions/3.10.6/envs/post2personality/lib/python3.10/site-packages/sklearn/utils/validation.py:1143: DataConversionWarning: A column-vector y was passed when a 1d array was expected. Please change the shape of y to (n_samples, ), for example using ravel().\n",
      "  y = column_or_1d(y, warn=True)\n",
      "/home/aforbesj/.pyenv/versions/3.10.6/envs/post2personality/lib/python3.10/site-packages/sklearn/utils/validation.py:1143: DataConversionWarning: A column-vector y was passed when a 1d array was expected. Please change the shape of y to (n_samples, ), for example using ravel().\n",
      "  y = column_or_1d(y, warn=True)\n"
     ]
    }
   ],
   "source": [
    "history_balanced = Model_Tester(df_balanced,\n",
    "                                     model)"
   ]
  },
  {
   "cell_type": "code",
   "execution_count": 16,
   "metadata": {},
   "outputs": [
    {
     "data": {
      "text/plain": [
       "{'e': {'precision': 0.47368421052631576,\n",
       "  'recall': 0.75,\n",
       "  'f1-score': 0.5806451612903226,\n",
       "  'support': 12},\n",
       " 'i': {'precision': 0.7857142857142857,\n",
       "  'recall': 0.5238095238095238,\n",
       "  'f1-score': 0.6285714285714286,\n",
       "  'support': 21},\n",
       " 'accuracy': 0.6060606060606061,\n",
       " 'macro avg': {'precision': 0.6296992481203008,\n",
       "  'recall': 0.6369047619047619,\n",
       "  'f1-score': 0.6046082949308755,\n",
       "  'support': 33},\n",
       " 'weighted avg': {'precision': 0.6722488038277511,\n",
       "  'recall': 0.6060606060606061,\n",
       "  'f1-score': 0.6111436950146628,\n",
       "  'support': 33},\n",
       " 'bal_acc': 0.6296992481203008}"
      ]
     },
     "execution_count": 16,
     "metadata": {},
     "output_type": "execute_result"
    }
   ],
   "source": [
    "history_balanced"
   ]
  },
  {
   "cell_type": "code",
   "execution_count": 15,
   "metadata": {},
   "outputs": [
    {
     "name": "stdout",
     "output_type": "stream",
     "text": [
      "1000 Rows, Unbalanced e_i: F1 = 53.528%\n",
      "\n",
      "\n",
      "1000 Rows, Balanced e_i: F1 = 60.461%\n"
     ]
    }
   ],
   "source": [
    "print(f\"{INPUT_ROWS} Rows, Unbalanced {TRAINING_MBTI_TYPE}: F1 = {100*round(history_unbalanced['macro avg']['f1-score'],5)}%\")\n",
    "print(\"\\n\")\n",
    "print(f\"{INPUT_ROWS} Rows, Balanced {TRAINING_MBTI_TYPE}: F1 = {100*round(history_balanced['macro avg']['f1-score'],5)}%\")\n"
   ]
  },
  {
   "attachments": {},
   "cell_type": "markdown",
   "metadata": {},
   "source": [
    "### DF1\n",
    "\n",
    "3000 Rows, Unbalanced e_i: F1 = 52.01%\n",
    "\n",
    "3000 Rows, Balanced e_i: F1 = 50.566%\n",
    "\n",
    "10000 Rows, Unbalanced e_i: F1 = 52.101%\n",
    "\n",
    "10000 Rows, Balanced e_i: F1 = 53.561%\n",
    "\n",
    "### DF2\n",
    "\n",
    "3000 Rows, Unbalanced e_i: F1 = 56.65%\n",
    "\n",
    "\n",
    "3000 Rows, Balanced e_i: F1 = 61.818%\n",
    "\n",
    "\n",
    "10000 Rows, Unbalanced e_i: F1 = 64.633%\n",
    "\n",
    "\n",
    "10000 Rows, Balanced e_i: F1 = 63.597%\n",
    "\n",
    "\n",
    "### DF3\n",
    "3000 Rows, Unbalanced e_i: F1 = 57.831999999999994%\n",
    "\n",
    "\n",
    "3000 Rows, Balanced e_i: F1 = 55.196%"
   ]
  },
  {
   "attachments": {},
   "cell_type": "markdown",
   "metadata": {},
   "source": [
    "### 1000 Rows, SGD\n",
    "\n",
    "1000 Rows, Unbalanced e_i: F1 = 57.65%\n",
    "\n",
    "1000 Rows, Balanced e_i: F1 = 52.94%\n",
    "\n",
    "\n",
    "1000 Rows, Unbalanced s_n: F1 = 50.243%\n",
    "\n",
    "\n",
    "1000 Rows, Balanced s_n: F1 = 54.301%\n",
    "\n",
    "1000 Rows, Unbalanced f_t: F1 = 67.271%\n",
    "\n",
    "\n",
    "1000 Rows, Balanced f_t: F1 = 65.001%\n",
    "\n",
    "1000 Rows, Unbalanced p_j: F1 = 54.348%\n",
    "\n",
    "\n",
    "1000 Rows, Balanced p_j: F1 = 53.416%"
   ]
  },
  {
   "attachments": {},
   "cell_type": "markdown",
   "metadata": {},
   "source": [
    "### 10000 Rows, SGD\n",
    "\n",
    "10000 Rows, Unbalanced e_i: F1 = 56.045%\n",
    "\n",
    "\n",
    "10000 Rows, Balanced e_i: F1 = 53.871%\n",
    "\n",
    "10000 Rows, Unbalanced s_n: F1 = 52.25%\n",
    "\n",
    "\n",
    "10000 Rows, Balanced s_n: F1 = 61.23499999999999%\n",
    "\n",
    "10000 Rows, Unbalanced f_t: F1 = 70.23899999999999%\n",
    "\n",
    "\n",
    "10000 Rows, Balanced f_t: F1 = 68.594%\n",
    "\n",
    "10000 Rows, Unbalanced p_j: F1 = 59.239%\n",
    "\n",
    "\n",
    "10000 Rows, Balanced p_j: F1 = 57.342000000000006%"
   ]
  },
  {
   "attachments": {},
   "cell_type": "markdown",
   "metadata": {},
   "source": [
    "## Make plots to indicate the difference between balanced and unbalanced EI data"
   ]
  }
 ],
 "metadata": {
  "kernelspec": {
   "display_name": "Python 3 (ipykernel)",
   "language": "python",
   "name": "python3"
  },
  "language_info": {
   "codemirror_mode": {
    "name": "ipython",
    "version": 3
   },
   "file_extension": ".py",
   "mimetype": "text/x-python",
   "name": "python",
   "nbconvert_exporter": "python",
   "pygments_lexer": "ipython3",
   "version": "3.10.6"
  },
  "toc": {
   "base_numbering": 1,
   "nav_menu": {},
   "number_sections": true,
   "sideBar": true,
   "skip_h1_title": false,
   "title_cell": "Table of Contents",
   "title_sidebar": "Contents",
   "toc_cell": false,
   "toc_position": {},
   "toc_section_display": true,
   "toc_window_display": false
  }
 },
 "nbformat": 4,
 "nbformat_minor": 2
}
