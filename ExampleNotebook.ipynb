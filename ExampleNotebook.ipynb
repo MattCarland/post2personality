{
 "cells": [
  {
   "cell_type": "code",
   "execution_count": 7,
   "metadata": {},
   "outputs": [],
   "source": [
    "from data.reddit_api_data import RedditApiData\n",
    "\n",
    "reddit_api_data = RedditApiData(CLIENT_ID, SECRET_KEY, REDDIT_USERNAME) # Hidden ENV\n",
    "\n",
    "reddit_comments = reddit_api_data.get_comments(\"Caroao\") # get user comments from Reddit API"
   ]
  },
  {
   "cell_type": "code",
   "execution_count": 8,
   "metadata": {},
   "outputs": [
    {
     "data": {
      "text/html": [
       "<div>\n",
       "<style scoped>\n",
       "    .dataframe tbody tr th:only-of-type {\n",
       "        vertical-align: middle;\n",
       "    }\n",
       "\n",
       "    .dataframe tbody tr th {\n",
       "        vertical-align: top;\n",
       "    }\n",
       "\n",
       "    .dataframe thead th {\n",
       "        text-align: right;\n",
       "    }\n",
       "</style>\n",
       "<table border=\"1\" class=\"dataframe\">\n",
       "  <thead>\n",
       "    <tr style=\"text-align: right;\">\n",
       "      <th></th>\n",
       "      <th>text</th>\n",
       "    </tr>\n",
       "  </thead>\n",
       "  <tbody>\n",
       "    <tr>\n",
       "      <th>0</th>\n",
       "      <td>I got one within like a week of starting this ...</td>\n",
       "    </tr>\n",
       "  </tbody>\n",
       "</table>\n",
       "</div>"
      ],
      "text/plain": [
       "                                                text\n",
       "0  I got one within like a week of starting this ..."
      ]
     },
     "execution_count": 8,
     "metadata": {},
     "output_type": "execute_result"
    }
   ],
   "source": [
    "reddit_comments"
   ]
  },
  {
   "cell_type": "code",
   "execution_count": 9,
   "metadata": {},
   "outputs": [],
   "source": [
    "from scripts.Preprocessing_full import prediction_preprocessing, prediction_vectorize\n",
    "\n",
    "df_pred_pp = prediction_preprocessing(reddit_comments) # preprocess the comments\n",
    "df_pred_list = prediction_vectorize(df_pred_pp) # vectorize the comments"
   ]
  },
  {
   "cell_type": "code",
   "execution_count": 12,
   "metadata": {},
   "outputs": [
    {
     "data": {
      "text/plain": [
       "{'type_prediction': 'ESTJ',\n",
       " 'type_score': 0.7362350712797721,\n",
       " 'specific_type_score': [{'Type': 'E',\n",
       "   'E Probability': 0.8159201584574018,\n",
       "   'I Probability': 0.1840798415425981},\n",
       "  {'Type': 'S',\n",
       "   'N Probability': 0.41070718906871106,\n",
       "   'S Probability': 0.5892928109312889},\n",
       "  {'Type': 'T',\n",
       "   'F Probability': 0.10812819781834981,\n",
       "   'T Probability': 0.8918718021816502},\n",
       "  {'Type': 'J',\n",
       "   'J Probability': 0.6478555135487476,\n",
       "   'P Probability': 0.35214448645125246}]}"
      ]
     },
     "execution_count": 12,
     "metadata": {},
     "output_type": "execute_result"
    }
   ],
   "source": [
    "from model.model import predict_model\n",
    "\n",
    "prediction = predict_model(texts = df_pred_list, verbose = False) # predict the comments\n",
    "prediction"
   ]
  },
  {
   "cell_type": "code",
   "execution_count": 13,
   "metadata": {},
   "outputs": [
    {
     "data": {
      "text/plain": [
       "'ESTJ'"
      ]
     },
     "execution_count": 13,
     "metadata": {},
     "output_type": "execute_result"
    }
   ],
   "source": [
    "prediction['type_prediction']"
   ]
  }
 ],
 "metadata": {
  "kernelspec": {
   "display_name": "post2personality",
   "language": "python",
   "name": "python3"
  },
  "language_info": {
   "codemirror_mode": {
    "name": "ipython",
    "version": 3
   },
   "file_extension": ".py",
   "mimetype": "text/x-python",
   "name": "python",
   "nbconvert_exporter": "python",
   "pygments_lexer": "ipython3",
   "version": "3.10.6"
  },
  "orig_nbformat": 4
 },
 "nbformat": 4,
 "nbformat_minor": 2
}
