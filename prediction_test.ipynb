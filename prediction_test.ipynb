{
 "cells": [
  {
   "cell_type": "code",
   "execution_count": 1,
   "metadata": {},
   "outputs": [
    {
     "name": "stdout",
     "output_type": "stream",
     "text": [
      "\n",
      "Dataset contains 7811 rows\n",
      "\n",
      "Testing prediction = E\n",
      "Probability of E: 100.0%\n",
      "Probability of I: 0.0%\n",
      "\n",
      "\n",
      "Testing prediction = S\n",
      "Probability of N: 0.0%\n",
      "Probability of S: 100.0%\n",
      "\n",
      "\n",
      "Testing prediction = T\n",
      "Probability of F: 0.0%\n",
      "Probability of T: 100.0%\n",
      "\n",
      "\n",
      "Testing prediction = P\n",
      "Probability of J: 0.0%\n",
      "Probability of P: 100.0%\n",
      "\n",
      "\n",
      "Final Prediction = ESTP\n"
     ]
    }
   ],
   "source": [
    "### To run models ###\n",
    "from scripts.Preprocessing_full import prediction_preprocessing, prediction_vectorize\n",
    "from model.model import predict_model\n",
    "import pandas as pd\n",
    "from data.data import Data\n",
    "\n",
    "# Prediction --------------------------------------------\n",
    "# df_pred -> Dataframe of prediction, 1 column of \"text\" \n",
    "data_raw = Data().get_all_data()\n",
    "df = data_raw['MBTI 500']\n",
    "df = df[['type', 'posts']]\n",
    "df.rename(columns={'posts': 'text'}, inplace=True)\n",
    "df = df.sample(n = 10, ignore_index = True)\n",
    "\n",
    "estimation = df['type'].iloc[:1].tolist()[0]\n",
    "df_pred = df.iloc[:1].drop(columns =['type'])\n",
    "\n",
    "# Preprocessing pipeline --------------------------------\n",
    "df_pred_pp = prediction_preprocessing(df_pred)\n",
    "df_pred_list = prediction_vectorize(df_pred_pp)\n",
    "\n",
    "# returns string ----------------------------------------\n",
    "res = predict_model(texts = df_pred_list, verbose = True) # verbose = True for visuals of prediction"
   ]
  },
  {
   "cell_type": "code",
   "execution_count": 2,
   "metadata": {},
   "outputs": [
    {
     "data": {
      "text/plain": [
       "'ESTP'"
      ]
     },
     "execution_count": 2,
     "metadata": {},
     "output_type": "execute_result"
    }
   ],
   "source": [
    "res"
   ]
  }
 ],
 "metadata": {
  "kernelspec": {
   "display_name": "post2personality",
   "language": "python",
   "name": "python3"
  },
  "language_info": {
   "codemirror_mode": {
    "name": "ipython",
    "version": 3
   },
   "file_extension": ".py",
   "mimetype": "text/x-python",
   "name": "python",
   "nbconvert_exporter": "python",
   "pygments_lexer": "ipython3",
   "version": "3.10.6"
  },
  "orig_nbformat": 4
 },
 "nbformat": 4,
 "nbformat_minor": 2
}
