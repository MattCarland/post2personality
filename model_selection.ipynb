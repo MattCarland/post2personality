{
 "cells": [
  {
   "cell_type": "code",
   "execution_count": 2,
   "metadata": {},
   "outputs": [],
   "source": [
    "## Score\n",
    "from sklearn.model_selection import train_test_split, cross_val_predict\n",
    "from sklearn.feature_extraction.text import CountVectorizer\n",
    "from sklearn.metrics import classification_report\n",
    "\n",
    "## Models\n",
    "from sklearn.naive_bayes import MultinomialNB, GaussianNB\n",
    "from sklearn.linear_model import SGDClassifier\n",
    "from sklearn.ensemble import RandomForestClassifier, GradientBoostingClassifier, AdaBoostClassifier \n",
    "from sklearn.tree import DecisionTreeClassifier\n",
    "from sklearn.neighbors import KNeighborsClassifier\n",
    "from sklearn.svm import SVC\n",
    "from sklearn.discriminant_analysis import QuadraticDiscriminantAnalysis\n"
   ]
  },
  {
   "cell_type": "code",
   "execution_count": 3,
   "metadata": {},
   "outputs": [],
   "source": [
    "import pandas as pd\n",
    "from data.data import Data\n",
    "\n",
    "data_raw = Data().get_all_data()"
   ]
  },
  {
   "cell_type": "code",
   "execution_count": 4,
   "metadata": {},
   "outputs": [
    {
     "data": {
      "text/html": [
       "<div>\n",
       "<style scoped>\n",
       "    .dataframe tbody tr th:only-of-type {\n",
       "        vertical-align: middle;\n",
       "    }\n",
       "\n",
       "    .dataframe tbody tr th {\n",
       "        vertical-align: top;\n",
       "    }\n",
       "\n",
       "    .dataframe thead th {\n",
       "        text-align: right;\n",
       "    }\n",
       "</style>\n",
       "<table border=\"1\" class=\"dataframe\">\n",
       "  <thead>\n",
       "    <tr style=\"text-align: right;\">\n",
       "      <th></th>\n",
       "      <th>posts</th>\n",
       "      <th>type</th>\n",
       "    </tr>\n",
       "  </thead>\n",
       "  <tbody>\n",
       "    <tr>\n",
       "      <th>0</th>\n",
       "      <td>@Pericles216 @HierBeforeTheAC @Sachinettiyil T...</td>\n",
       "      <td>intj</td>\n",
       "    </tr>\n",
       "    <tr>\n",
       "      <th>1</th>\n",
       "      <td>@Hispanthicckk Being you makes you look cute||...</td>\n",
       "      <td>intj</td>\n",
       "    </tr>\n",
       "    <tr>\n",
       "      <th>2</th>\n",
       "      <td>@Alshymi Les balles sont réelles et sont tirée...</td>\n",
       "      <td>intj</td>\n",
       "    </tr>\n",
       "    <tr>\n",
       "      <th>3</th>\n",
       "      <td>I'm like entp but idiotic|||Hey boy, do you wa...</td>\n",
       "      <td>intj</td>\n",
       "    </tr>\n",
       "    <tr>\n",
       "      <th>4</th>\n",
       "      <td>@kaeshurr1 Give it to @ZargarShanif ... He has...</td>\n",
       "      <td>intj</td>\n",
       "    </tr>\n",
       "  </tbody>\n",
       "</table>\n",
       "</div>"
      ],
      "text/plain": [
       "                                               posts  type\n",
       "0  @Pericles216 @HierBeforeTheAC @Sachinettiyil T...  intj\n",
       "1  @Hispanthicckk Being you makes you look cute||...  intj\n",
       "2  @Alshymi Les balles sont réelles et sont tirée...  intj\n",
       "3  I'm like entp but idiotic|||Hey boy, do you wa...  intj\n",
       "4  @kaeshurr1 Give it to @ZargarShanif ... He has...  intj"
      ]
     },
     "execution_count": 4,
     "metadata": {},
     "output_type": "execute_result"
    }
   ],
   "source": [
    "# df1 is fine for PreProcessing\n",
    "\n",
    "\n",
    "df1 = data_raw['twitter_MBTI']\n",
    "df1.drop(df1.columns[0], axis=1, inplace=True)\n",
    "df1 = df1.rename(columns={'text': 'posts', 'label': 'type'})\n",
    "\n",
    "df2 = data_raw['MBTI 500']\n",
    "\n",
    "df3 = data_raw['mbti_1']\n",
    "df3 = df3[['posts', 'type']]\n",
    "\n",
    "\n",
    "## Combined all data for PP if desired\n",
    "data_combined = pd.concat([df1,df1,df3], axis=0)\n",
    "data_combined.head()"
   ]
  },
  {
   "cell_type": "code",
   "execution_count": 4,
   "metadata": {},
   "outputs": [],
   "source": [
    "# from scripts.preprocessing import preprocessing\n",
    "\n",
    "# data_pp = preprocessing(data_combined)\n",
    "\n",
    "# TypeError: expected string or bytes-like object"
   ]
  },
  {
   "cell_type": "code",
   "execution_count": 5,
   "metadata": {},
   "outputs": [],
   "source": [
    "## Data for model selection\n",
    "data = df2"
   ]
  },
  {
   "cell_type": "code",
   "execution_count": 6,
   "metadata": {},
   "outputs": [
    {
     "data": {
      "text/plain": [
       "['e_i', 's_n', 'f_t', 'p_j']"
      ]
     },
     "execution_count": 6,
     "metadata": {},
     "output_type": "execute_result"
    }
   ],
   "source": [
    "data['e_i'] = data['type'].astype(str).str[0]\n",
    "data['s_n'] = data['type'].astype(str).str[1]\n",
    "data['f_t'] = data['type'].astype(str).str[2]\n",
    "data['p_j'] = data['type'].astype(str).str[3]\n",
    "\n",
    "column_list = list(data.columns)[2:]\n",
    "column_list"
   ]
  },
  {
   "cell_type": "code",
   "execution_count": 10,
   "metadata": {},
   "outputs": [],
   "source": [
    "models_list = [SGDClassifier(), \n",
    "               RandomForestClassifier(max_depth=5, n_estimators=10, max_features=2), \n",
    "            #    AdaBoostClassifier(),\n",
    "               DecisionTreeClassifier(max_depth=5), \n",
    "               KNeighborsClassifier(3),\n",
    "            #    SVC(kernel=\"linear\", C=0.025),\n",
    "               GaussianNB(), \n",
    "               MultinomialNB(),\n",
    "               QuadraticDiscriminantAnalysis()]"
   ]
  },
  {
   "cell_type": "code",
   "execution_count": 25,
   "metadata": {},
   "outputs": [],
   "source": [
    "def BaselineModel(X_train, X_test, y_train, model_selection):\n",
    "    count_vectorizer = CountVectorizer()\n",
    "\n",
    "    X_bow_train = count_vectorizer.fit_transform(X_train)\n",
    "    X_bow_test = count_vectorizer.fit_transform(X_test)\n",
    "\n",
    "\n",
    "    ## Apparently, you need to fill out these to arrays to run them through\n",
    "    ## Some of the beefier models, try to figure out how\n",
    "    \n",
    "    # X_train = X_bow_train.toarray()\n",
    "    # X_bow_test = X_bow_test.toarray()\n",
    "\n",
    "    model = model_selection\n",
    "\n",
    "    model.fit(X_bow_train, y_train)\n",
    "    \n",
    "    return model, X_bow_test"
   ]
  },
  {
   "cell_type": "code",
   "execution_count": 12,
   "metadata": {},
   "outputs": [],
   "source": [
    "## Finds the Macro F1 - Score\n",
    "def PredictDict(model, X_bow_test, y_test):\n",
    "    y_pred = cross_val_predict(model, X_bow_test, y_test, cv = 10)\n",
    "    report = classification_report(y_test, y_pred, output_dict=True)\n",
    "    return report"
   ]
  },
  {
   "attachments": {},
   "cell_type": "markdown",
   "metadata": {},
   "source": [
    "For the function below, see if you can modify it to return print functions instead of just doing them, they seem to replicate in the output and it looks ugly."
   ]
  },
  {
   "cell_type": "code",
   "execution_count": 26,
   "metadata": {},
   "outputs": [],
   "source": [
    "import numpy as np\n",
    "\n",
    "## Use our previous code to get F1 Scores for different models\n",
    "def ModelF1Score_Binary(column, model, dataset):\n",
    "    \"\"\"\n",
    "    Input the Column from the DataFrame as a string for binary modelling.\n",
    "    Outputs prints of the Confusion Matrix and the Classification Report.\n",
    "    \"\"\"\n",
    "    y_set = dataset[column]\n",
    "    X_set = dataset['posts']\n",
    "    \n",
    "    \n",
    "    X_train, X_test, y_train, y_test = train_test_split(X_set,y_set,\n",
    "                                                    test_size=.3,\n",
    "                                                    random_state=1) \n",
    "    \n",
    "    \n",
    "    \n",
    "    model_fit, X_bow_test = BaselineModel(X_train = X_train, \n",
    "                                      X_test = X_test, \n",
    "                                      y_train = y_train, \n",
    "                                      model_selection = model)\n",
    "    \n",
    "    print(f\"\\n{model} has been fit!\")\n",
    "    \n",
    "    prediction = PredictDict(model = model_fit, \n",
    "                       X_bow_test = X_bow_test, \n",
    "                       y_test = y_test)\n",
    "    \n",
    "    predict_list = list(prediction.keys())\n",
    "    \n",
    "    class_1 = predict_list[0]\n",
    "    class_2 = predict_list[1]\n",
    "    macro = predict_list[3]\n",
    "    \n",
    "    print(\"----------------------------------------------------------------\")\n",
    "    print(f\"{class_1} has a score of: {100*round(prediction[class_1]['f1-score'],4)}%\")\n",
    "    print(f\"{class_2} has a score of: {100*round(prediction[class_2]['f1-score'],4)}%\")\n",
    "    print(f\"The Combined Macro F1 Average is: {100*round(prediction[macro]['f1-score'],4)}%\")\n",
    "    print(\"----------------------------------------------------------------\")\n",
    "    "
   ]
  },
  {
   "cell_type": "code",
   "execution_count": 37,
   "metadata": {},
   "outputs": [
    {
     "name": "stdout",
     "output_type": "stream",
     "text": [
      "\n",
      "MultinomialNB() has been fit!\n",
      "----------------------------------------------------------------\n",
      "N has a score of: 96.59%\n",
      "S has a score of: 49.21%\n",
      "The Combined Macro F1 Average is:72.89999999999999%\n",
      "----------------------------------------------------------------\n"
     ]
    }
   ],
   "source": [
    "ModelF1Score_Binary(column = column_list[1], \n",
    "                    model = models_list[-1], \n",
    "                    dataset = data)"
   ]
  },
  {
   "cell_type": "code",
   "execution_count": 40,
   "metadata": {},
   "outputs": [
    {
     "name": "stdout",
     "output_type": "stream",
     "text": [
      "\n",
      "MultinomialNB() has been fit!\n",
      "----------------------------------------------------------------\n",
      "E has a score of: 58.57%\n",
      "I has a score of: 90.41%\n",
      "The Combined Macro F1 Average is:74.49%\n",
      "----------------------------------------------------------------\n",
      "\n",
      "MultinomialNB() has been fit!\n",
      "----------------------------------------------------------------\n",
      "N has a score of: 96.59%\n",
      "S has a score of: 49.21%\n",
      "The Combined Macro F1 Average is:72.89999999999999%\n",
      "----------------------------------------------------------------\n",
      "\n",
      "MultinomialNB() has been fit!\n",
      "----------------------------------------------------------------\n",
      "F has a score of: 83.95%\n",
      "T has a score of: 91.17%\n",
      "The Combined Macro F1 Average is:87.56%\n",
      "----------------------------------------------------------------\n",
      "\n",
      "MultinomialNB() has been fit!\n",
      "----------------------------------------------------------------\n",
      "J has a score of: 78.86999999999999%\n",
      "P has a score of: 84.75%\n",
      "The Combined Macro F1 Average is:81.81%\n",
      "----------------------------------------------------------------\n"
     ]
    }
   ],
   "source": [
    "## For loop for all the types?\n",
    "\n",
    "## Okay well it prints everything a few too many times, \n",
    "## but it does get the scores out\n",
    "\n",
    "for type in column_list:\n",
    "    ModelF1Score_Binary(column = type,\n",
    "                        model = models_list[-1],\n",
    "                        dataset = data)"
   ]
  },
  {
   "cell_type": "code",
   "execution_count": 14,
   "metadata": {},
   "outputs": [
    {
     "name": "stdout",
     "output_type": "stream",
     "text": [
      "\n",
      "SGDClassifier() has been fit!\n",
      "----------------------------------------------------------------\n",
      "E has a score of: 71.97%\n",
      "I has a score of: 91.41%\n",
      "The Combined Macro F1 Average is: 81.69%\n",
      "----------------------------------------------------------------\n"
     ]
    }
   ],
   "source": [
    "## Maybe saving the results as a dict for the return and then\n",
    "# calling them out afterwards is better use of the function?\n",
    "\n",
    "\n",
    "\n",
    "\n",
    "ModelF1Score_Binary(column = column_list[0],\n",
    "                    model = models_list[0],\n",
    "                    dataset = data)"
   ]
  },
  {
   "cell_type": "code",
   "execution_count": 21,
   "metadata": {},
   "outputs": [
    {
     "name": "stdout",
     "output_type": "stream",
     "text": [
      "\n",
      "RandomForestClassifier(max_depth=5, max_features=2, n_estimators=10) has been fit!\n"
     ]
    },
    {
     "name": "stderr",
     "output_type": "stream",
     "text": [
      "/home/aforbesj/.pyenv/versions/3.10.6/envs/post2personality/lib/python3.10/site-packages/sklearn/metrics/_classification.py:1344: UndefinedMetricWarning: Precision and F-score are ill-defined and being set to 0.0 in labels with no predicted samples. Use `zero_division` parameter to control this behavior.\n",
      "  _warn_prf(average, modifier, msg_start, len(result))\n",
      "/home/aforbesj/.pyenv/versions/3.10.6/envs/post2personality/lib/python3.10/site-packages/sklearn/metrics/_classification.py:1344: UndefinedMetricWarning: Precision and F-score are ill-defined and being set to 0.0 in labels with no predicted samples. Use `zero_division` parameter to control this behavior.\n",
      "  _warn_prf(average, modifier, msg_start, len(result))\n"
     ]
    },
    {
     "name": "stdout",
     "output_type": "stream",
     "text": [
      "----------------------------------------------------------------\n",
      "E has a score of: 0.0%\n",
      "I has a score of: 86.33%\n",
      "The Combined Macro F1 Average is: 43.16%\n",
      "----------------------------------------------------------------\n"
     ]
    },
    {
     "name": "stderr",
     "output_type": "stream",
     "text": [
      "/home/aforbesj/.pyenv/versions/3.10.6/envs/post2personality/lib/python3.10/site-packages/sklearn/metrics/_classification.py:1344: UndefinedMetricWarning: Precision and F-score are ill-defined and being set to 0.0 in labels with no predicted samples. Use `zero_division` parameter to control this behavior.\n",
      "  _warn_prf(average, modifier, msg_start, len(result))\n"
     ]
    }
   ],
   "source": [
    "ModelF1Score_Binary(column = column_list[0],\n",
    "                    model = models_list[1],\n",
    "                    dataset = data)"
   ]
  },
  {
   "cell_type": "code",
   "execution_count": 15,
   "metadata": {},
   "outputs": [
    {
     "name": "stdout",
     "output_type": "stream",
     "text": [
      "\n",
      "DecisionTreeClassifier(max_depth=5) has been fit!\n",
      "----------------------------------------------------------------\n",
      "E has a score of: 61.1%\n",
      "I has a score of: 89.82%\n",
      "The Combined Macro F1 Average is: 75.46000000000001%\n",
      "----------------------------------------------------------------\n"
     ]
    }
   ],
   "source": [
    "ModelF1Score_Binary(column = column_list[0],\n",
    "                    model = models_list[2],\n",
    "                    dataset = data)"
   ]
  },
  {
   "cell_type": "code",
   "execution_count": 16,
   "metadata": {},
   "outputs": [
    {
     "name": "stdout",
     "output_type": "stream",
     "text": [
      "\n",
      "KNeighborsClassifier(n_neighbors=3) has been fit!\n",
      "----------------------------------------------------------------\n",
      "E has a score of: 39.550000000000004%\n",
      "I has a score of: 86.21%\n",
      "The Combined Macro F1 Average is: 62.88%\n",
      "----------------------------------------------------------------\n"
     ]
    }
   ],
   "source": [
    "ModelF1Score_Binary(column = column_list[0],\n",
    "                    model = models_list[3],\n",
    "                    dataset = data)"
   ]
  },
  {
   "cell_type": "code",
   "execution_count": 23,
   "metadata": {},
   "outputs": [
    {
     "name": "stdout",
     "output_type": "stream",
     "text": [
      "Unexpected exception formatting exception. Falling back to standard exception\n"
     ]
    },
    {
     "name": "stderr",
     "output_type": "stream",
     "text": [
      "Traceback (most recent call last):\n",
      "  File \"/home/aforbesj/.pyenv/versions/3.10.6/envs/post2personality/lib/python3.10/site-packages/IPython/core/interactiveshell.py\", line 3508, in run_code\n",
      "    exec(code_obj, self.user_global_ns, self.user_ns)\n",
      "  File \"/tmp/ipykernel_2999/752105198.py\", line 1, in <module>\n",
      "    ModelF1Score_Binary(column = column_list[0],\n",
      "  File \"/tmp/ipykernel_2999/3475362615.py\", line 20, in ModelF1Score_Binary\n",
      "    model_fit, X_bow_test = BaselineModel(X_train = X_train,\n",
      "  File \"/tmp/ipykernel_2999/3399536739.py\", line 3, in BaselineModel\n",
      "    X_bow_train = count_vectorizer.fit_transform(X_train)\n",
      "  File \"/home/aforbesj/.pyenv/versions/3.10.6/envs/post2personality/lib/python3.10/site-packages/sklearn/feature_extraction/text.py\", line 1388, in fit_transform\n",
      "    vocabulary, X = self._count_vocab(raw_documents, self.fixed_vocabulary_)\n",
      "  File \"/home/aforbesj/.pyenv/versions/3.10.6/envs/post2personality/lib/python3.10/site-packages/sklearn/feature_extraction/text.py\", line -1, in _count_vocab\n",
      "KeyboardInterrupt\n",
      "\n",
      "During handling of the above exception, another exception occurred:\n",
      "\n",
      "Traceback (most recent call last):\n",
      "  File \"/home/aforbesj/.pyenv/versions/3.10.6/envs/post2personality/lib/python3.10/site-packages/IPython/core/interactiveshell.py\", line 2105, in showtraceback\n",
      "    stb = self.InteractiveTB.structured_traceback(\n",
      "  File \"/home/aforbesj/.pyenv/versions/3.10.6/envs/post2personality/lib/python3.10/site-packages/IPython/core/ultratb.py\", line 1396, in structured_traceback\n",
      "    return FormattedTB.structured_traceback(\n",
      "  File \"/home/aforbesj/.pyenv/versions/3.10.6/envs/post2personality/lib/python3.10/site-packages/IPython/core/ultratb.py\", line 1287, in structured_traceback\n",
      "    return VerboseTB.structured_traceback(\n",
      "  File \"/home/aforbesj/.pyenv/versions/3.10.6/envs/post2personality/lib/python3.10/site-packages/IPython/core/ultratb.py\", line 1140, in structured_traceback\n",
      "    formatted_exception = self.format_exception_as_a_whole(etype, evalue, etb, number_of_lines_of_context,\n",
      "  File \"/home/aforbesj/.pyenv/versions/3.10.6/envs/post2personality/lib/python3.10/site-packages/IPython/core/ultratb.py\", line 1055, in format_exception_as_a_whole\n",
      "    frames.append(self.format_record(record))\n",
      "  File \"/home/aforbesj/.pyenv/versions/3.10.6/envs/post2personality/lib/python3.10/site-packages/IPython/core/ultratb.py\", line 955, in format_record\n",
      "    frame_info.lines, Colors, self.has_colors, lvals\n",
      "  File \"/home/aforbesj/.pyenv/versions/3.10.6/envs/post2personality/lib/python3.10/site-packages/IPython/core/ultratb.py\", line 778, in lines\n",
      "    return self._sd.lines\n",
      "  File \"/home/aforbesj/.pyenv/versions/3.10.6/envs/post2personality/lib/python3.10/site-packages/stack_data/utils.py\", line 144, in cached_property_wrapper\n",
      "    value = obj.__dict__[self.func.__name__] = self.func(obj)\n",
      "  File \"/home/aforbesj/.pyenv/versions/3.10.6/envs/post2personality/lib/python3.10/site-packages/stack_data/core.py\", line 734, in lines\n",
      "    pieces = self.included_pieces\n",
      "  File \"/home/aforbesj/.pyenv/versions/3.10.6/envs/post2personality/lib/python3.10/site-packages/stack_data/utils.py\", line 144, in cached_property_wrapper\n",
      "    value = obj.__dict__[self.func.__name__] = self.func(obj)\n",
      "  File \"/home/aforbesj/.pyenv/versions/3.10.6/envs/post2personality/lib/python3.10/site-packages/stack_data/core.py\", line 681, in included_pieces\n",
      "    pos = scope_pieces.index(self.executing_piece)\n",
      "  File \"/home/aforbesj/.pyenv/versions/3.10.6/envs/post2personality/lib/python3.10/site-packages/stack_data/utils.py\", line 144, in cached_property_wrapper\n",
      "    value = obj.__dict__[self.func.__name__] = self.func(obj)\n",
      "  File \"/home/aforbesj/.pyenv/versions/3.10.6/envs/post2personality/lib/python3.10/site-packages/stack_data/core.py\", line 660, in executing_piece\n",
      "    return only(\n",
      "  File \"/home/aforbesj/.pyenv/versions/3.10.6/envs/post2personality/lib/python3.10/site-packages/executing/executing.py\", line 190, in only\n",
      "    raise NotOneValueFound('Expected one value, found 0')\n",
      "executing.executing.NotOneValueFound: Expected one value, found 0\n"
     ]
    }
   ],
   "source": [
    "ModelF1Score_Binary(column = column_list[0],\n",
    "                    model = models_list[4],\n",
    "                    dataset = data)"
   ]
  },
  {
   "cell_type": "code",
   "execution_count": 19,
   "metadata": {},
   "outputs": [
    {
     "name": "stdout",
     "output_type": "stream",
     "text": [
      "\n",
      "MultinomialNB() has been fit!\n",
      "----------------------------------------------------------------\n",
      "E has a score of: 58.57%\n",
      "I has a score of: 90.41%\n",
      "The Combined Macro F1 Average is: 74.49%\n",
      "----------------------------------------------------------------\n"
     ]
    }
   ],
   "source": [
    "ModelF1Score_Binary(column = column_list[0],\n",
    "                    model = models_list[5],\n",
    "                    dataset = data)"
   ]
  },
  {
   "cell_type": "code",
   "execution_count": 27,
   "metadata": {},
   "outputs": [
    {
     "ename": "MemoryError",
     "evalue": "Unable to allocate 116. GiB for an array with shape (74246, 209152) and data type int64",
     "output_type": "error",
     "traceback": [
      "\u001b[0;31m---------------------------------------------------------------------------\u001b[0m",
      "\u001b[0;31mMemoryError\u001b[0m                               Traceback (most recent call last)",
      "Cell \u001b[0;32mIn[27], line 1\u001b[0m\n\u001b[0;32m----> 1\u001b[0m ModelF1Score_Binary(column \u001b[39m=\u001b[39;49m column_list[\u001b[39m0\u001b[39;49m],\n\u001b[1;32m      2\u001b[0m                     model \u001b[39m=\u001b[39;49m models_list[\u001b[39m6\u001b[39;49m],\n\u001b[1;32m      3\u001b[0m                     dataset \u001b[39m=\u001b[39;49m data)\n",
      "Cell \u001b[0;32mIn[26], line 19\u001b[0m, in \u001b[0;36mModelF1Score_Binary\u001b[0;34m(column, model, dataset)\u001b[0m\n\u001b[1;32m     10\u001b[0m X_set \u001b[39m=\u001b[39m dataset[\u001b[39m'\u001b[39m\u001b[39mposts\u001b[39m\u001b[39m'\u001b[39m]\n\u001b[1;32m     13\u001b[0m X_train, X_test, y_train, y_test \u001b[39m=\u001b[39m train_test_split(X_set,y_set,\n\u001b[1;32m     14\u001b[0m                                                 test_size\u001b[39m=\u001b[39m\u001b[39m.3\u001b[39m,\n\u001b[1;32m     15\u001b[0m                                                 random_state\u001b[39m=\u001b[39m\u001b[39m1\u001b[39m) \n\u001b[0;32m---> 19\u001b[0m model_fit, X_bow_test \u001b[39m=\u001b[39m BaselineModel(X_train \u001b[39m=\u001b[39;49m X_train, \n\u001b[1;32m     20\u001b[0m                                   X_test \u001b[39m=\u001b[39;49m X_test, \n\u001b[1;32m     21\u001b[0m                                   y_train \u001b[39m=\u001b[39;49m y_train, \n\u001b[1;32m     22\u001b[0m                                   model_selection \u001b[39m=\u001b[39;49m model)\n\u001b[1;32m     24\u001b[0m \u001b[39mprint\u001b[39m(\u001b[39mf\u001b[39m\u001b[39m\"\u001b[39m\u001b[39m\\n\u001b[39;00m\u001b[39m{\u001b[39;00mmodel\u001b[39m}\u001b[39;00m\u001b[39m has been fit!\u001b[39m\u001b[39m\"\u001b[39m)\n\u001b[1;32m     26\u001b[0m prediction \u001b[39m=\u001b[39m PredictDict(model \u001b[39m=\u001b[39m model_fit, \n\u001b[1;32m     27\u001b[0m                    X_bow_test \u001b[39m=\u001b[39m X_bow_test, \n\u001b[1;32m     28\u001b[0m                    y_test \u001b[39m=\u001b[39m y_test)\n",
      "Cell \u001b[0;32mIn[25], line 7\u001b[0m, in \u001b[0;36mBaselineModel\u001b[0;34m(X_train, X_test, y_train, model_selection)\u001b[0m\n\u001b[1;32m      4\u001b[0m X_bow_train \u001b[39m=\u001b[39m count_vectorizer\u001b[39m.\u001b[39mfit_transform(X_train)\n\u001b[1;32m      5\u001b[0m X_bow_test \u001b[39m=\u001b[39m count_vectorizer\u001b[39m.\u001b[39mfit_transform(X_test)\n\u001b[0;32m----> 7\u001b[0m X_train \u001b[39m=\u001b[39m X_bow_train\u001b[39m.\u001b[39;49mtoarray()\n\u001b[1;32m      8\u001b[0m X_bow_test \u001b[39m=\u001b[39m X_bow_test\u001b[39m.\u001b[39mtoarray()\n\u001b[1;32m     10\u001b[0m model \u001b[39m=\u001b[39m model_selection\n",
      "File \u001b[0;32m~/.pyenv/versions/3.10.6/envs/post2personality/lib/python3.10/site-packages/scipy/sparse/_compressed.py:1051\u001b[0m, in \u001b[0;36m_cs_matrix.toarray\u001b[0;34m(self, order, out)\u001b[0m\n\u001b[1;32m   1049\u001b[0m \u001b[39mif\u001b[39;00m out \u001b[39mis\u001b[39;00m \u001b[39mNone\u001b[39;00m \u001b[39mand\u001b[39;00m order \u001b[39mis\u001b[39;00m \u001b[39mNone\u001b[39;00m:\n\u001b[1;32m   1050\u001b[0m     order \u001b[39m=\u001b[39m \u001b[39mself\u001b[39m\u001b[39m.\u001b[39m_swap(\u001b[39m'\u001b[39m\u001b[39mcf\u001b[39m\u001b[39m'\u001b[39m)[\u001b[39m0\u001b[39m]\n\u001b[0;32m-> 1051\u001b[0m out \u001b[39m=\u001b[39m \u001b[39mself\u001b[39;49m\u001b[39m.\u001b[39;49m_process_toarray_args(order, out)\n\u001b[1;32m   1052\u001b[0m \u001b[39mif\u001b[39;00m \u001b[39mnot\u001b[39;00m (out\u001b[39m.\u001b[39mflags\u001b[39m.\u001b[39mc_contiguous \u001b[39mor\u001b[39;00m out\u001b[39m.\u001b[39mflags\u001b[39m.\u001b[39mf_contiguous):\n\u001b[1;32m   1053\u001b[0m     \u001b[39mraise\u001b[39;00m \u001b[39mValueError\u001b[39;00m(\u001b[39m'\u001b[39m\u001b[39mOutput array must be C or F contiguous\u001b[39m\u001b[39m'\u001b[39m)\n",
      "File \u001b[0;32m~/.pyenv/versions/3.10.6/envs/post2personality/lib/python3.10/site-packages/scipy/sparse/_base.py:1298\u001b[0m, in \u001b[0;36mspmatrix._process_toarray_args\u001b[0;34m(self, order, out)\u001b[0m\n\u001b[1;32m   1296\u001b[0m     \u001b[39mreturn\u001b[39;00m out\n\u001b[1;32m   1297\u001b[0m \u001b[39melse\u001b[39;00m:\n\u001b[0;32m-> 1298\u001b[0m     \u001b[39mreturn\u001b[39;00m np\u001b[39m.\u001b[39;49mzeros(\u001b[39mself\u001b[39;49m\u001b[39m.\u001b[39;49mshape, dtype\u001b[39m=\u001b[39;49m\u001b[39mself\u001b[39;49m\u001b[39m.\u001b[39;49mdtype, order\u001b[39m=\u001b[39;49morder)\n",
      "\u001b[0;31mMemoryError\u001b[0m: Unable to allocate 116. GiB for an array with shape (74246, 209152) and data type int64"
     ]
    }
   ],
   "source": [
    "ModelF1Score_Binary(column = column_list[0],\n",
    "                    model = models_list[6],\n",
    "                    dataset = data)"
   ]
  }
 ],
 "metadata": {
  "kernelspec": {
   "display_name": "post2personality",
   "language": "python",
   "name": "python3"
  },
  "language_info": {
   "codemirror_mode": {
    "name": "ipython",
    "version": 3
   },
   "file_extension": ".py",
   "mimetype": "text/x-python",
   "name": "python",
   "nbconvert_exporter": "python",
   "pygments_lexer": "ipython3",
   "version": "3.10.6"
  },
  "orig_nbformat": 4
 },
 "nbformat": 4,
 "nbformat_minor": 2
}
