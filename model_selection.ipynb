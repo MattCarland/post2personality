{
 "cells": [
  {
   "cell_type": "code",
   "execution_count": 1,
   "metadata": {},
   "outputs": [],
   "source": [
    "## Score\n",
    "from sklearn.model_selection import train_test_split, cross_val_predict\n",
    "from sklearn.feature_extraction.text import CountVectorizer\n",
    "from sklearn.metrics import classification_report\n",
    "\n",
    "## Models\n",
    "from sklearn.naive_bayes import MultinomialNB, GaussianNB\n",
    "from sklearn.linear_model import SGDClassifier\n",
    "from sklearn.ensemble import RandomForestClassifier, GradientBoostingClassifier \n",
    "from sklearn.tree import DecisionTreeClassifier\n",
    "from sklearn.neighbors import KNeighborsClassifier\n",
    "from sklearn.svm import SVC\n"
   ]
  },
  {
   "cell_type": "code",
   "execution_count": 2,
   "metadata": {},
   "outputs": [],
   "source": [
    "import pandas as pd\n",
    "from data.data import Data\n",
    "\n",
    "data_raw = Data().get_all_data()"
   ]
  },
  {
   "cell_type": "code",
   "execution_count": 3,
   "metadata": {},
   "outputs": [
    {
     "data": {
      "text/html": [
       "<div>\n",
       "<style scoped>\n",
       "    .dataframe tbody tr th:only-of-type {\n",
       "        vertical-align: middle;\n",
       "    }\n",
       "\n",
       "    .dataframe tbody tr th {\n",
       "        vertical-align: top;\n",
       "    }\n",
       "\n",
       "    .dataframe thead th {\n",
       "        text-align: right;\n",
       "    }\n",
       "</style>\n",
       "<table border=\"1\" class=\"dataframe\">\n",
       "  <thead>\n",
       "    <tr style=\"text-align: right;\">\n",
       "      <th></th>\n",
       "      <th>posts</th>\n",
       "      <th>type</th>\n",
       "    </tr>\n",
       "  </thead>\n",
       "  <tbody>\n",
       "    <tr>\n",
       "      <th>0</th>\n",
       "      <td>@Pericles216 @HierBeforeTheAC @Sachinettiyil T...</td>\n",
       "      <td>intj</td>\n",
       "    </tr>\n",
       "    <tr>\n",
       "      <th>1</th>\n",
       "      <td>@Hispanthicckk Being you makes you look cute||...</td>\n",
       "      <td>intj</td>\n",
       "    </tr>\n",
       "    <tr>\n",
       "      <th>2</th>\n",
       "      <td>@Alshymi Les balles sont réelles et sont tirée...</td>\n",
       "      <td>intj</td>\n",
       "    </tr>\n",
       "    <tr>\n",
       "      <th>3</th>\n",
       "      <td>I'm like entp but idiotic|||Hey boy, do you wa...</td>\n",
       "      <td>intj</td>\n",
       "    </tr>\n",
       "    <tr>\n",
       "      <th>4</th>\n",
       "      <td>@kaeshurr1 Give it to @ZargarShanif ... He has...</td>\n",
       "      <td>intj</td>\n",
       "    </tr>\n",
       "  </tbody>\n",
       "</table>\n",
       "</div>"
      ],
      "text/plain": [
       "                                               posts  type\n",
       "0  @Pericles216 @HierBeforeTheAC @Sachinettiyil T...  intj\n",
       "1  @Hispanthicckk Being you makes you look cute||...  intj\n",
       "2  @Alshymi Les balles sont réelles et sont tirée...  intj\n",
       "3  I'm like entp but idiotic|||Hey boy, do you wa...  intj\n",
       "4  @kaeshurr1 Give it to @ZargarShanif ... He has...  intj"
      ]
     },
     "execution_count": 3,
     "metadata": {},
     "output_type": "execute_result"
    }
   ],
   "source": [
    "# df1 is fine for PreProcessing\n",
    "\n",
    "\n",
    "df1 = data_raw['twitter_MBTI']\n",
    "df1.drop(df1.columns[0], axis=1, inplace=True)\n",
    "df1 = df1.rename(columns={'text': 'posts', 'label': 'type'})\n",
    "\n",
    "df2 = data_raw['MBTI 500']\n",
    "\n",
    "df3 = data_raw['mbti_1']\n",
    "df3 = df3[['posts', 'type']]\n",
    "\n",
    "\n",
    "\n",
    "\n",
    "## Combined all data for PP if desired\n",
    "data_combined = pd.concat([df1,df1,df3], axis=0)\n",
    "data_combined.head()"
   ]
  },
  {
   "attachments": {},
   "cell_type": "markdown",
   "metadata": {},
   "source": [
    "While I did spend some time settting this up, the script still\n",
    "did not work quite yet. I will wait and talk to everyone about this.\n",
    "Note that you did include a setup file, Makefile, and the appropriate \n",
    "__init__.py files in order run the scripts that have been setup."
   ]
  },
  {
   "cell_type": "code",
   "execution_count": 4,
   "metadata": {},
   "outputs": [],
   "source": [
    "# from scripts.preprocessing import preprocessing\n",
    "\n",
    "# data_pp = preprocessing(data_combined)\n",
    "\n",
    "# TypeError: expected string or bytes-like object"
   ]
  },
  {
   "cell_type": "code",
   "execution_count": 5,
   "metadata": {},
   "outputs": [],
   "source": [
    "## Data for model selection\n",
    "data = df2"
   ]
  },
  {
   "cell_type": "code",
   "execution_count": 6,
   "metadata": {},
   "outputs": [],
   "source": [
    "data['e_i'] = data['type'].astype(str).str[0]\n",
    "data['s_n'] = data['type'].astype(str).str[1]\n",
    "data['f_t'] = data['type'].astype(str).str[2]\n",
    "data['p_j'] = data['type'].astype(str).str[3]"
   ]
  },
  {
   "cell_type": "code",
   "execution_count": 7,
   "metadata": {},
   "outputs": [],
   "source": [
    "models_list = [SGDClassifier(), RandomForestClassifier(), GradientBoostingClassifier(),\n",
    "               DecisionTreeClassifier(), KNeighborsClassifier(),SVC(),\n",
    "               GaussianNB(), MultinomialNB()]"
   ]
  },
  {
   "cell_type": "code",
   "execution_count": 8,
   "metadata": {},
   "outputs": [],
   "source": [
    "def BaselineModel(X_train, X_test, y_train, model_selection):\n",
    "    count_vectorizer = CountVectorizer()\n",
    "    X_bow_train = count_vectorizer.fit_transform(X_train)\n",
    "    X_bow_test = count_vectorizer.fit_transform(X_test)\n",
    "\n",
    "    model = model_selection\n",
    "\n",
    "    model.fit(X_bow_train, y_train)\n",
    "    \n",
    "    return model, X_bow_test"
   ]
  },
  {
   "cell_type": "code",
   "execution_count": 9,
   "metadata": {},
   "outputs": [],
   "source": [
    "## Finds the Macro F1 - Score\n",
    "def PredictDict(model, X_bow_test, y_test):\n",
    "    y_pred = cross_val_predict(model, X_bow_test, y_test, cv = 10)\n",
    "    report = classification_report(y_test, y_pred, output_dict=True)\n",
    "    return report"
   ]
  },
  {
   "cell_type": "code",
   "execution_count": 10,
   "metadata": {},
   "outputs": [],
   "source": [
    "y_set = data['e_i']\n",
    "X_set = data['posts']\n",
    "\n",
    "X_train, X_test, y_train, y_test = train_test_split(X_set,y_set,\n",
    "                                                test_size=.3,\n",
    "                                                random_state=1) "
   ]
  },
  {
   "cell_type": "code",
   "execution_count": 11,
   "metadata": {},
   "outputs": [],
   "source": [
    "model, X_bow_test = BaselineModel(X_train, \n",
    "                                  X_test, \n",
    "                                  y_train, \n",
    "                                  MultinomialNB())"
   ]
  },
  {
   "cell_type": "code",
   "execution_count": 22,
   "metadata": {},
   "outputs": [],
   "source": [
    "## Use our previous code to get F1 Scores for different models\n",
    "def ModelF1Score_Binary(Column, model):\n",
    "    \"\"\"\n",
    "    Input the Column from the DataFrame as a string for binary modelling.\n",
    "    Outputs prints of the Confusion Matrix and the Classification Report.\n",
    "    \"\"\"\n",
    "    y_set = data[Column]\n",
    "    X_set = data['posts']\n",
    "    \n",
    "    X_train, X_test, y_train, y_test = train_test_split(X_set,y_set,\n",
    "                                                    test_size=.3,\n",
    "                                                    random_state=1) \n",
    "    \n",
    "    model_fit, X_bow_test = BaselineModel(X_train = X_train, \n",
    "                                      X_test = X_test, \n",
    "                                      y_train = y_train, \n",
    "                                      model_selection = model)\n",
    "    \n",
    "    print(f\"\\n{model} has been fit!\")\n",
    "    \n",
    "    prediction = PredictDict(model = model_fit, \n",
    "                       X_bow_test = X_bow_test, \n",
    "                       y_test = y_test)\n",
    "    \n",
    "    predict_list = list(prediction.keys())\n",
    "    \n",
    "    class_1 = predict_list[0]\n",
    "    class_2 = predict_list[1]\n",
    "    macro = predict_list[3]\n",
    "    \n",
    "    print(\"----------------------------------------------------------------\")\n",
    "    print(f\"{class_1} has a score of: {100*round(prediction[class_1]['f1-score'],4)}%\")\n",
    "    print(f\"{class_2} has a score of: {100*round(prediction[class_2]['f1-score'],4)}%\")\n",
    "    print(f\"The Combined Macro F1 Average is:{100*round(prediction[macro]['f1-score'],4)}%\")\n",
    "    print(\"----------------------------------------------------------------\")\n",
    "    "
   ]
  }
 ],
 "metadata": {
  "kernelspec": {
   "display_name": "post2personality",
   "language": "python",
   "name": "python3"
  },
  "language_info": {
   "codemirror_mode": {
    "name": "ipython",
    "version": 3
   },
   "file_extension": ".py",
   "mimetype": "text/x-python",
   "name": "python",
   "nbconvert_exporter": "python",
   "pygments_lexer": "ipython3",
   "version": "3.10.6"
  },
  "orig_nbformat": 4
 },
 "nbformat": 4,
 "nbformat_minor": 2
}
