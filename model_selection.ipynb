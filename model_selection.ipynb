{
 "cells": [
  {
   "cell_type": "code",
   "execution_count": 7,
   "metadata": {},
   "outputs": [],
   "source": [
    "\n",
    "## Score\n",
    "from sklearn.model_selection import train_test_split, cross_val_predict\n",
    "from sklearn.feature_extraction.text import CountVectorizer\n",
    "from sklearn.metrics import classification_report\n",
    "\n",
    "## Models\n",
    "from sklearn.naive_bayes import MultinomialNB, GaussianNB\n",
    "from sklearn.linear_model import SGDClassifier\n",
    "from sklearn.ensemble import RandomForestClassifier, GradientBoostingClassifier \n",
    "from sklearn.tree import DecisionTreeClassifier\n",
    "from sklearn.neighbors import KNeighborsClassifier\n",
    "from sklearn.svm import SVC\n"
   ]
  },
  {
   "cell_type": "code",
   "execution_count": 1,
   "metadata": {},
   "outputs": [
    {
     "ename": "FileNotFoundError",
     "evalue": "[Errno 2] No such file or directory: './data/csv/'",
     "output_type": "error",
     "traceback": [
      "\u001b[0;31m---------------------------------------------------------------------------\u001b[0m",
      "\u001b[0;31mFileNotFoundError\u001b[0m                         Traceback (most recent call last)",
      "Cell \u001b[0;32mIn[1], line 4\u001b[0m\n\u001b[1;32m      1\u001b[0m \u001b[39mimport\u001b[39;00m \u001b[39mpandas\u001b[39;00m \u001b[39mas\u001b[39;00m \u001b[39mpd\u001b[39;00m\n\u001b[1;32m      2\u001b[0m \u001b[39mfrom\u001b[39;00m \u001b[39mdata\u001b[39;00m\u001b[39m.\u001b[39;00m\u001b[39mdata\u001b[39;00m \u001b[39mimport\u001b[39;00m Data\n\u001b[0;32m----> 4\u001b[0m data \u001b[39m=\u001b[39m Data()\u001b[39m.\u001b[39;49mget_set02()\n\u001b[1;32m      5\u001b[0m data\u001b[39m.\u001b[39mhead()\n",
      "File \u001b[0;32m~/code/MattCarland/post2personality/data/data.py:37\u001b[0m, in \u001b[0;36mData.get_set02\u001b[0;34m(self)\u001b[0m\n\u001b[1;32m     33\u001b[0m \u001b[39mdef\u001b[39;00m \u001b[39mget_set02\u001b[39m(\u001b[39mself\u001b[39m):\n\u001b[1;32m     34\u001b[0m \u001b[39m    \u001b[39m\u001b[39m\"\"\"\u001b[39;00m\n\u001b[1;32m     35\u001b[0m \u001b[39m    This function returns data_MBTI_500 DataFrame\u001b[39;00m\n\u001b[1;32m     36\u001b[0m \u001b[39m    \"\"\"\u001b[39;00m\n\u001b[0;32m---> 37\u001b[0m     \u001b[39mreturn\u001b[39;00m \u001b[39mself\u001b[39;49m\u001b[39m.\u001b[39;49mget_all_data()[\u001b[39m\"\u001b[39m\u001b[39mdata_MBTI_500\u001b[39m\u001b[39m\"\u001b[39m]\n",
      "File \u001b[0;32m~/code/MattCarland/post2personality/data/data.py:14\u001b[0m, in \u001b[0;36mData.get_all_data\u001b[0;34m(self)\u001b[0m\n\u001b[1;32m      6\u001b[0m \u001b[39m\u001b[39m\u001b[39m\"\"\"\u001b[39;00m\n\u001b[1;32m      7\u001b[0m \u001b[39mThis function returns a Python dict.\u001b[39;00m\n\u001b[1;32m      8\u001b[0m \u001b[39mIts keys should be 'set01', 'set02', 'set03' etc...\u001b[39;00m\n\u001b[1;32m      9\u001b[0m \u001b[39mIts values should be pandas.DataFrames loaded from csv files\u001b[39;00m\n\u001b[1;32m     10\u001b[0m \u001b[39m\"\"\"\u001b[39;00m\n\u001b[1;32m     12\u001b[0m csv_path \u001b[39m=\u001b[39m \u001b[39m\"\u001b[39m\u001b[39m./data/csv/\u001b[39m\u001b[39m\"\u001b[39m\n\u001b[0;32m---> 14\u001b[0m file_names \u001b[39m=\u001b[39m [f \u001b[39mfor\u001b[39;00m f \u001b[39min\u001b[39;00m os\u001b[39m.\u001b[39;49mlistdir(csv_path) \u001b[39mif\u001b[39;00m f\u001b[39m.\u001b[39mendswith(\u001b[39m\"\u001b[39m\u001b[39m.csv\u001b[39m\u001b[39m\"\u001b[39m)]\n\u001b[1;32m     16\u001b[0m key_names \u001b[39m=\u001b[39m [\n\u001b[1;32m     17\u001b[0m     key_name\u001b[39m.\u001b[39mreplace(\u001b[39m\"\u001b[39m\u001b[39m.csv\u001b[39m\u001b[39m\"\u001b[39m, \u001b[39m\"\u001b[39m\u001b[39m\"\u001b[39m)\n\u001b[1;32m     18\u001b[0m     \u001b[39mfor\u001b[39;00m key_name \u001b[39min\u001b[39;00m file_names\n\u001b[1;32m     19\u001b[0m ]\n\u001b[1;32m     20\u001b[0m \u001b[39m# Create the dictionary\u001b[39;00m\n",
      "\u001b[0;31mFileNotFoundError\u001b[0m: [Errno 2] No such file or directory: './data/csv/'"
     ]
    }
   ],
   "source": [
    "import pandas as pd\n",
    "from data.data import Data\n",
    "\n",
    "data = Data().get_set02()\n",
    "data.head()"
   ]
  },
  {
   "cell_type": "code",
   "execution_count": null,
   "metadata": {},
   "outputs": [],
   "source": [
    "data['e_i'] = data['type'].astype(str).str[0]\n",
    "data['s_n'] = data['type'].astype(str).str[1]\n",
    "data['f_t'] = data['type'].astype(str).str[2]\n",
    "data['p_j'] = data['type'].astype(str).str[3]"
   ]
  },
  {
   "cell_type": "code",
   "execution_count": null,
   "metadata": {},
   "outputs": [],
   "source": [
    "models_list = [SGDClassifier(), RandomForestClassifier(), GradientBoostingClassifier(),\n",
    "               DecisionTreeClassifier(), KNeighborsClassifier(),SVC(),\n",
    "               GaussianNB()], MultinomialNB()]"
   ]
  },
  {
   "cell_type": "code",
   "execution_count": null,
   "metadata": {},
   "outputs": [],
   "source": [
    "def BaselineModel(X_train, X_test, y_train, model_selection):\n",
    "    count_vectorizer = CountVectorizer()\n",
    "    X_bow_train = count_vectorizer.fit_transform(X_train)\n",
    "    X_bow_test = count_vectorizer.fit_transform(X_test)\n",
    "\n",
    "    model_nb = model_selection\n",
    "\n",
    "    model_nb.fit(X_bow_train, y_train)\n",
    "    \n",
    "    return model_nb, X_bow_test"
   ]
  },
  {
   "cell_type": "code",
   "execution_count": null,
   "metadata": {},
   "outputs": [],
   "source": [
    "## Finds the Macro F1 - Score\n",
    "def PredictDict(model, X_bow_test, y_test):\n",
    "    y_pred = cross_val_predict(model, X_bow_test, y_test, cv = 10)\n",
    "    report = classification_report(y_test, y_pred, output_dict=True)\n",
    "    return report"
   ]
  },
  {
   "cell_type": "code",
   "execution_count": null,
   "metadata": {},
   "outputs": [],
   "source": [
    "## Use our previous code to get F1 Scores for different models\n",
    "def ModelF1Score_Binary(Column, model):\n",
    "    \"\"\"\n",
    "    Input the Column from the DataFrame as a string for binary modelling.\n",
    "    Outputs prints of the Confusion Matrix and the Classification Report.\n",
    "    \"\"\"\n",
    "    y_set = data[Column]\n",
    "    X_set = data['posts']\n",
    "    \n",
    "    X_train, X_test, y_train, y_test = train_test_split(X_set,y_set,\n",
    "                                                    test_size=.3,\n",
    "                                                    random_state=1) \n",
    "    \n",
    "    model, X_bow_test = BaselineModel(X_train = X_train, \n",
    "                                      X_test = X_test, \n",
    "                                      y_train = y_train, \n",
    "                                      model_selection = model)\n",
    "    PredictDict(model = model, \n",
    "                       X_bow_test = X_bow_test, \n",
    "                       y_test = y_test)"
   ]
  }
 ],
 "metadata": {
  "kernelspec": {
   "display_name": "post2personality",
   "language": "python",
   "name": "python3"
  },
  "language_info": {
   "codemirror_mode": {
    "name": "ipython",
    "version": 3
   },
   "file_extension": ".py",
   "mimetype": "text/x-python",
   "name": "python",
   "nbconvert_exporter": "python",
   "pygments_lexer": "ipython3",
   "version": "3.10.6"
  },
  "orig_nbformat": 4
 },
 "nbformat": 4,
 "nbformat_minor": 2
}
